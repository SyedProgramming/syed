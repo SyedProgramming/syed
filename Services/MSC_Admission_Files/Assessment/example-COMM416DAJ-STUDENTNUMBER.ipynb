{
 "cells": [
  {
   "cell_type": "markdown",
   "id": "43008855",
   "metadata": {},
   "source": [
    "# Example of a jupyter notebook for the answers\n",
    "\n",
    "___________________"
   ]
  },
  {
   "cell_type": "markdown",
   "id": "577fc01e",
   "metadata": {},
   "source": [
    "# A1 – Exploratory data analysis and data visualisation"
   ]
  },
  {
   "cell_type": "code",
   "execution_count": null,
   "id": "388099e7",
   "metadata": {},
   "outputs": [],
   "source": [
    "# Code here"
   ]
  },
  {
   "cell_type": "markdown",
   "id": "a9b4da81",
   "metadata": {},
   "source": [
    "_____________________\n",
    "\n",
    "# A2 – Training classifiers"
   ]
  },
  {
   "cell_type": "code",
   "execution_count": null,
   "id": "ef8001ff",
   "metadata": {},
   "outputs": [],
   "source": [
    "# Code here"
   ]
  },
  {
   "cell_type": "markdown",
   "id": "b6f5cf73",
   "metadata": {},
   "source": [
    "**Question N.** Question text here.\n",
    "\n",
    "**Answer.** Question answer here.\n",
    "\n",
    "___________________\n",
    "\n",
    "\n",
    "**Question N+1.** Question text here.\n",
    "\n",
    "**Answer.** Question answer here."
   ]
  },
  {
   "cell_type": "markdown",
   "id": "17ed695e",
   "metadata": {},
   "source": [
    "# And so on."
   ]
  },
  {
   "cell_type": "code",
   "execution_count": null,
   "id": "38de0b1a",
   "metadata": {},
   "outputs": [],
   "source": []
  }
 ],
 "metadata": {
  "kernelspec": {
   "display_name": "Python 3",
   "language": "python",
   "name": "python3"
  },
  "language_info": {
   "codemirror_mode": {
    "name": "ipython",
    "version": 3
   },
   "file_extension": ".py",
   "mimetype": "text/x-python",
   "name": "python",
   "nbconvert_exporter": "python",
   "pygments_lexer": "ipython3",
   "version": "3.8.8"
  }
 },
 "nbformat": 4,
 "nbformat_minor": 5
}
