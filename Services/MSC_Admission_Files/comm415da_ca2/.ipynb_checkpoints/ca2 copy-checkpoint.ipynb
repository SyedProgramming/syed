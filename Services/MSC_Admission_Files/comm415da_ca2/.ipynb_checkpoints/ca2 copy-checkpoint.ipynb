{
 "cells": [
  {
   "cell_type": "markdown",
   "metadata": {
    "deletable": false,
    "editable": false,
    "nbgrader": {
     "cell_type": "markdown",
     "checksum": "0c3e3e974da15789cf9e50b887f1f148",
     "grade": false,
     "grade_id": "cell-ff40c17e2f0ae53e",
     "locked": true,
     "schema_version": 3,
     "solution": false,
     "task": false
    }
   },
   "source": [
    "# COMM415DA Fundamentals of Data Science\n",
    "## Course Assessment 2\n",
    "\n",
    "\n",
    "This course assessment (CA2) represents 60% of the overall module assessment.\n",
    "\n",
    "**Submission deadline:** 13 July 2022, 12noon\n",
    "\n",
    "**Aim:** Show understanding of linear algebra methods for data analysis with `pandas` and `numpy`.\n",
    "\n",
    "This is an **individual exercise** and your attention is drawn to the College and University guidelines on collaboration and plagiarism, which are available from the College website.\n",
    "\n",
    "\n",
    "**Notes on how to use the notebook:**\n",
    "\n",
    "1. do not change the name of this notebook, i.e. the notebook file has to be: `ca2.ipynb`\n",
    "2. do not add you name or student code in the notebook or in the file name (it must be an anonymous submission)\n",
    "3. do not remove or delete or add any cell in this notebook: you should work on a separate, private notebook and only when you are finished debugging then copy the function implementations in the cells of this notebook. Make sure to copy **only** the function implementation and nothing else.\n",
    "4. remove the `raise NotImplementedError()` under the `# YOUR CODE HERE` and replace it with **your code**: note that if you leave this command in the cell you will fail the associated test\n",
    "\n",
    "**Submission:**\n",
    "\n",
    "- to access this notebook you have downloaded the archive comm415da_ca2.zip, and unziped it to a folder comm415da_ca2\n",
    "- the folder comm415da_ca2 contains some images (.png), a notebook (.ipynb) and some other files for the datasets\n",
    "- to submit your completed Jupyter notebook, save it in the folder comm415da_ca2 without changing the file name, i.e. the notebook has to have the file name ca2.ipynb\n",
    "- create a .zip archive (not any other compression format, only .zip) of the folder comm415da_ca2 with your updated notebook\n",
    "- the folder (unzipped) should be named comm415da_ca2, the zip file should be named with you student number (this is a 9 digit number) i.e., something like 720026468.zip\n",
    "- submit a single file, the zipped archive, using the 'Coursework 2' submission link on ELE \n",
    "\n",
    "**Evaluation criteria:**\n",
    "\n",
    "Each question asks for one or more functions to be implemented. \n",
    "\n",
    "- Each function is awarded a number of marks. \n",
    "- A hidden unit test is going to evaluate if desired properties of the required function are met. \n",
    "- If the function passes the test the associated marks are awarded, if it fails 0 marks are awarded.\n",
    "- The coding style (including clarity, conciseness, appropiate use of commands and data structures, efficiency, good programming practices) will also be kept into consideration to award full marks.  \n",
    "- If you make a typo error (e.g. mispelling a variable) this will likely causes a syntax error, the function execution will fail and you will be awarded 0 marks.\n",
    "- Do not make assumptions on the state of previous cells, i.e. expect each function to be evaluated independently, moreover expect each function to be tested in the unit tests on some *randomly* generated input.\n",
    "- Notebooks not conforming to the required format (see notes on how to use the notebook) will be penalised.\n",
    "\n",
    "Although the test use a hard fail/pass strategy to assign marks, the large number of questions allows a fine grading.\n",
    "\n",
    "**Notes:**\n",
    "\n",
    "Students are expected to do some autonomous readings and research to familiarise themselves with the topics of the exercises.\n",
    "\n",
    "When a required function can be implemented directly by a library function it is intended that the candidate should write her own implementation of the function.\n",
    "\n",
    "Students are not allowed to import additional external libraries unless explicitly stated in the question. \n",
    "\n",
    "Do not assume that the implementations provided in the Workshops exercises contain no mistakes. You should write and are ultimately responsible for the code that you submit in this assessment.\n",
    "\n",
    "Questions are not strict software specifications. Students are expected to use their knowledge of the subject to interpret correctly the meaning of questions.\n"
   ]
  },
  {
   "cell_type": "code",
   "execution_count": 1,
   "metadata": {
    "deletable": false,
    "editable": false,
    "nbgrader": {
     "cell_type": "code",
     "checksum": "3e9dac18c415a4e3fd46f7ba086a79cd",
     "grade": false,
     "grade_id": "cell-830793d1a48b7f1f",
     "locked": true,
     "schema_version": 3,
     "solution": false,
     "task": false
    }
   },
   "outputs": [],
   "source": [
    "%matplotlib inline\n",
    "import matplotlib.pyplot as plt\n",
    "import numpy as np\n",
    "import pandas as pd\n",
    "\n",
    "# the following is used in unit testing, please ignore \n",
    "import sys\n",
    "sys.path.insert(0,'..\\\\..\\\\')"
   ]
  },
  {
   "cell_type": "markdown",
   "metadata": {
    "deletable": false,
    "editable": false,
    "nbgrader": {
     "cell_type": "markdown",
     "checksum": "f59dda0f68dd1efb879f8b1b23458064",
     "grade": false,
     "grade_id": "cell-830793d1a48b7f11",
     "locked": true,
     "schema_version": 3,
     "solution": false,
     "task": false
    }
   },
   "source": [
    "# Part 1 (30 marks)\n",
    "\n",
    "**Aim:** Show competence in using the `pandas` library and knowledge of the correlation concept.\n",
    "\n",
    "In the following you are asked to analyze a real world dataset: the Exasens Data Set from https://archive.ics.uci.edu/ml/datasets/Exasens which contains missing values.\n",
    "\n",
    "In this exercise data matrices are considered row-wise, that is a data matrix for `m` instances is a `m x n` matrix consisting of `m` vectors in `n` dimensions."
   ]
  },
  {
   "cell_type": "markdown",
   "metadata": {
    "deletable": false,
    "editable": false,
    "nbgrader": {
     "cell_type": "markdown",
     "checksum": "f8fb253c7dc0f9f507edfb7f92a29f34",
     "grade": false,
     "grade_id": "cell-f11fe5fa02d23eee",
     "locked": true,
     "schema_version": 3,
     "solution": false,
     "task": false
    }
   },
   "source": [
    "## Question 1.1 (4 marks)\n",
    "\n",
    "Make a function `load_exasens_data_set()` that returns a pandas data frame with the the data made available by the UC Irvine Machine Learning Repository at the following URL: https://archive.ics.uci.edu/ml/datasets/Exasens (click on the `data folder` link on that webpage - you need to find the exact URL for the data file in csv format).\n",
    "\n",
    "\n",
    "The function should read the data directly from the URL (not from a location on the local disk) and  perform the necessary processing and manipulation of the raw data so as to output a data frame `df` with the following characteristics:\n",
    "```\n",
    ">>df.info()\n",
    "\n",
    "RangeIndex: 399 entries, 0 to 398\n",
    "Data columns (total 9 columns):\n",
    " #   Column              Non-Null Count  Dtype  \n",
    "---  ------              --------------  -----  \n",
    " 0   Diagnosis           399 non-null    object \n",
    " 1   ID                  399 non-null    object \n",
    " 2   Imaginary_Part_Min  100 non-null    float64\n",
    " 3   Imaginary_Part_Avg  100 non-null    float64\n",
    " 4   Real_Part_Min       100 non-null    float64\n",
    " 5   Real_Part_Avg       100 non-null    float64\n",
    " 6   Gender              399 non-null    int64  \n",
    " 7   Age                 399 non-null    int64  \n",
    " 8   Smoking             399 non-null    int64  \n",
    "dtypes: float64(4), int64(3), object(2)\n",
    "memory usage: 28.2+ KB\n",
    "```\n",
    "**Note:** you have to obtain a frame that has the **exact** column names as shown above."
   ]
  },
  {
   "cell_type": "code",
   "execution_count": 9,
   "metadata": {
    "deletable": false,
    "nbgrader": {
     "cell_type": "code",
     "checksum": "4ac18b9415d588580696df0af351faa9",
     "grade": false,
     "grade_id": "cell-4b994146f17c1f3a",
     "locked": false,
     "schema_version": 3,
     "solution": true,
     "task": false
    }
   },
   "outputs": [],
   "source": [
    "def load_exasens_data_set():\n",
    "    url = 'https://archive.ics.uci.edu/ml/machine-learning-databases/00523/Exasens.csv'\n",
    "    df = pd.read_csv(url)\n",
    "    df.columns = ['Diagnosis', 'ID', 'Imaginary_Part_Min', 'Imaginary_Part_Avg','Real_Part_Min','Real_Part_Avg','Gender','Age','Smoking','Unnamed: 9','Unnamed: 10','Unnamed: 11','Unnamed: 12']\n",
    "    df.drop(['Unnamed: 9','Unnamed: 10','Unnamed: 11','Unnamed: 12'], axis=1, inplace=True)\n",
    "    df = df.iloc[2:]\n",
    "    return df"
   ]
  },
  {
   "cell_type": "code",
   "execution_count": 10,
   "metadata": {},
   "outputs": [],
   "source": [
    "df = load_exasens_data_set()"
   ]
  },
  {
   "cell_type": "code",
   "execution_count": 11,
   "metadata": {},
   "outputs": [
    {
     "name": "stdout",
     "output_type": "stream",
     "text": [
      "<class 'pandas.core.frame.DataFrame'>\n",
      "RangeIndex: 399 entries, 2 to 400\n",
      "Data columns (total 9 columns):\n",
      " #   Column              Non-Null Count  Dtype  \n",
      "---  ------              --------------  -----  \n",
      " 0   Diagnosis           399 non-null    object \n",
      " 1   ID                  399 non-null    object \n",
      " 2   Imaginary_Part_Min  100 non-null    object \n",
      " 3   Imaginary_Part_Avg  100 non-null    object \n",
      " 4   Real_Part_Min       100 non-null    object \n",
      " 5   Real_Part_Avg       100 non-null    object \n",
      " 6   Gender              399 non-null    float64\n",
      " 7   Age                 399 non-null    float64\n",
      " 8   Smoking             399 non-null    float64\n",
      "dtypes: float64(3), object(6)\n",
      "memory usage: 28.2+ KB\n"
     ]
    }
   ],
   "source": [
    "df.info()"
   ]
  },
  {
   "cell_type": "code",
   "execution_count": null,
   "metadata": {},
   "outputs": [],
   "source": []
  },
  {
   "cell_type": "code",
   "execution_count": null,
   "metadata": {},
   "outputs": [],
   "source": []
  },
  {
   "cell_type": "code",
   "execution_count": null,
   "metadata": {},
   "outputs": [],
   "source": []
  },
  {
   "cell_type": "code",
   "execution_count": 5,
   "metadata": {
    "deletable": false,
    "editable": false,
    "nbgrader": {
     "cell_type": "code",
     "checksum": "1c2d6ea9b7507c2dacf34a3a3c87a611",
     "grade": true,
     "grade_id": "cell-591c11378642bd18",
     "locked": true,
     "points": 4,
     "schema_version": 3,
     "solution": false,
     "task": false
    }
   },
   "outputs": [],
   "source": [
    "# This cell is reserved for the unit tests. Do not consider this cell. "
   ]
  },
  {
   "cell_type": "code",
   "execution_count": 5,
   "metadata": {
    "deletable": false,
    "editable": false,
    "nbgrader": {
     "cell_type": "code",
     "checksum": "f94a783842534cc89f7f1abdc7fd4df6",
     "grade": false,
     "grade_id": "cell-71601b966d6bca38",
     "locked": true,
     "schema_version": 3,
     "solution": false,
     "task": false
    }
   },
   "outputs": [
    {
     "name": "stdout",
     "output_type": "stream",
     "text": [
      "<class 'pandas.core.frame.DataFrame'>\n",
      "RangeIndex: 399 entries, 2 to 400\n",
      "Data columns (total 9 columns):\n",
      " #   Column              Non-Null Count  Dtype  \n",
      "---  ------              --------------  -----  \n",
      " 0   Diagnosis           399 non-null    object \n",
      " 1   ID                  399 non-null    object \n",
      " 2   Imaginary_Part_Min  100 non-null    object \n",
      " 3   Imaginary_Part_Avg  100 non-null    object \n",
      " 4   Real_Part_Min       100 non-null    object \n",
      " 5   Real_Part_Avg       100 non-null    object \n",
      " 6   Gender              399 non-null    float64\n",
      " 7   Age                 399 non-null    float64\n",
      " 8   Smoking             399 non-null    float64\n",
      "dtypes: float64(3), object(6)\n",
      "memory usage: 28.2+ KB\n",
      "None\n"
     ]
    }
   ],
   "source": [
    "# Just run the following code, do not modify it\n",
    "\n",
    "df = load_exasens_data_set()\n",
    "print(df.info())"
   ]
  },
  {
   "cell_type": "markdown",
   "metadata": {
    "deletable": false,
    "editable": false,
    "nbgrader": {
     "cell_type": "markdown",
     "checksum": "71b0b842c9de52a6f3cbb14abfd66ed6",
     "grade": false,
     "grade_id": "cell-55bf98aa88984e59",
     "locked": true,
     "schema_version": 3,
     "solution": false,
     "task": false
    }
   },
   "source": [
    "## Question 1.2 (5 marks)\n",
    "\n",
    "Make a function `add_binned_column(df, col_name, limits)`. The function takes in input a data frame `df`, one of its columns label `col_name` and a list of values `limits`. \n",
    "\n",
    "The function returns the input data frame with an additional column: the label of the new column is obtained by adding the fixed suffix \"_bin\", so if col_name is \"Age\" then the new column has label \"Age_bin\". \n",
    "\n",
    "The aim of the function is to convert values into the ordinal integers 0,1,2,...,etc. \n",
    "\n",
    "The list `limits` contains the bins boundaries used for the conversion. The bins are closed on the left and open on the right, i.e. a bin with boundaries `[10,20)` contains all values >= 10 and < 20. \n",
    "\n",
    "In a list `[v, a, b, c, ..., w]` the first value `v` defines the bin (-inf,v) and the last value `w` defines the bin (w,+inf).\n",
    "\n",
    "For example `limits=[5,10,15]` defines the following bins: `(-inf,5), [5,10), [10, 15), [15, +inf)`. Values falling in the first bin will be mapped to the integer 0, values in the second bin will be mapped to the integer 1,  in the third bin to 2, in the fourth bin to 3. \n"
   ]
  },
  {
   "cell_type": "code",
   "execution_count": 7,
   "metadata": {
    "deletable": false,
    "nbgrader": {
     "cell_type": "code",
     "checksum": "7117c3721bdd7c9c9a3299d8411d04b2",
     "grade": false,
     "grade_id": "cell-939f58e2d2dfdf86",
     "locked": false,
     "schema_version": 3,
     "solution": true,
     "task": false
    }
   },
   "outputs": [],
   "source": [
    "def add_binned_column(df, col_name, limits):\n",
    "    # YOUR CODE HERE\n",
    "    raise NotImplementedError()"
   ]
  },
  {
   "cell_type": "code",
   "execution_count": 12,
   "metadata": {},
   "outputs": [],
   "source": [
    "def add_binned_column(df, col_name, limits):\n",
    "    df = df.astype({'Gender':'int','Age':'int', 'Smoking':'int'})\n",
    "    age = df[col_name].values\n",
    "    a = limits[0]\n",
    "    b = limits[1]\n",
    "    c = limits[2]\n",
    "    age_bin = []\n",
    "    for i in age:\n",
    "        if(i < a):\n",
    "            age_bin.append(0)\n",
    "        elif(i >= a and i < b):\n",
    "            age_bin.append(1)\n",
    "        elif(i >= b and i < c):\n",
    "            age_bin.append(2)\n",
    "        elif(i >= c):\n",
    "            age_bin.append(3)\n",
    "    df['Age_bin'] = age_bin\n",
    "    return df"
   ]
  },
  {
   "cell_type": "code",
   "execution_count": 13,
   "metadata": {},
   "outputs": [],
   "source": [
    "df = add_binned_column(df, col_name='Age', limits=[30,50,70])"
   ]
  },
  {
   "cell_type": "code",
   "execution_count": 10,
   "metadata": {},
   "outputs": [],
   "source": [
    "#def add_binned_column(df, col_name, limits):\n",
    "#    limitLables=[0,1]\n",
    "#    df = df.astype({'Gender':'int','Age':'int', 'Smoking':'int'})\n",
    "#    df['Age_bin'] = pd.cut(x = df[col_name], bins=limits, labels=limitLables)\n",
    "#    return df"
   ]
  },
  {
   "cell_type": "code",
   "execution_count": 11,
   "metadata": {},
   "outputs": [],
   "source": [
    "#df1 = add_binned_column(df, 'Age', limits=[30, 50, 70])"
   ]
  },
  {
   "cell_type": "code",
   "execution_count": 12,
   "metadata": {},
   "outputs": [],
   "source": [
    "#df1[:40]"
   ]
  },
  {
   "cell_type": "code",
   "execution_count": 14,
   "metadata": {},
   "outputs": [
    {
     "data": {
      "text/html": [
       "<div>\n",
       "<style scoped>\n",
       "    .dataframe tbody tr th:only-of-type {\n",
       "        vertical-align: middle;\n",
       "    }\n",
       "\n",
       "    .dataframe tbody tr th {\n",
       "        vertical-align: top;\n",
       "    }\n",
       "\n",
       "    .dataframe thead th {\n",
       "        text-align: right;\n",
       "    }\n",
       "</style>\n",
       "<table border=\"1\" class=\"dataframe\">\n",
       "  <thead>\n",
       "    <tr style=\"text-align: right;\">\n",
       "      <th></th>\n",
       "      <th>Diagnosis</th>\n",
       "      <th>ID</th>\n",
       "      <th>Imaginary_Part_Min</th>\n",
       "      <th>Imaginary_Part_Avg</th>\n",
       "      <th>Real_Part_Min</th>\n",
       "      <th>Real_Part_Avg</th>\n",
       "      <th>Gender</th>\n",
       "      <th>Age</th>\n",
       "      <th>Smoking</th>\n",
       "      <th>Age_bin</th>\n",
       "    </tr>\n",
       "  </thead>\n",
       "  <tbody>\n",
       "    <tr>\n",
       "      <th>2</th>\n",
       "      <td>COPD</td>\n",
       "      <td>301-4</td>\n",
       "      <td>-320.61</td>\n",
       "      <td>-300.5635307</td>\n",
       "      <td>-495.26</td>\n",
       "      <td>-464.1719907</td>\n",
       "      <td>1</td>\n",
       "      <td>77</td>\n",
       "      <td>2</td>\n",
       "      <td>3</td>\n",
       "    </tr>\n",
       "    <tr>\n",
       "      <th>3</th>\n",
       "      <td>COPD</td>\n",
       "      <td>302-3</td>\n",
       "      <td>-325.39</td>\n",
       "      <td>-314.7503595</td>\n",
       "      <td>-473.73</td>\n",
       "      <td>-469.2631404</td>\n",
       "      <td>0</td>\n",
       "      <td>72</td>\n",
       "      <td>2</td>\n",
       "      <td>3</td>\n",
       "    </tr>\n",
       "    <tr>\n",
       "      <th>4</th>\n",
       "      <td>COPD</td>\n",
       "      <td>303-3</td>\n",
       "      <td>-323</td>\n",
       "      <td>-317.4360556</td>\n",
       "      <td>-476.12</td>\n",
       "      <td>-471.8976667</td>\n",
       "      <td>1</td>\n",
       "      <td>73</td>\n",
       "      <td>3</td>\n",
       "      <td>3</td>\n",
       "    </tr>\n",
       "    <tr>\n",
       "      <th>5</th>\n",
       "      <td>COPD</td>\n",
       "      <td>304-4</td>\n",
       "      <td>-327.78</td>\n",
       "      <td>-317.3996698</td>\n",
       "      <td>-473.73</td>\n",
       "      <td>-468.856388</td>\n",
       "      <td>1</td>\n",
       "      <td>76</td>\n",
       "      <td>2</td>\n",
       "      <td>3</td>\n",
       "    </tr>\n",
       "    <tr>\n",
       "      <th>6</th>\n",
       "      <td>COPD</td>\n",
       "      <td>305-4</td>\n",
       "      <td>-325.39</td>\n",
       "      <td>-316.1557853</td>\n",
       "      <td>-478.52</td>\n",
       "      <td>-472.8697828</td>\n",
       "      <td>0</td>\n",
       "      <td>65</td>\n",
       "      <td>2</td>\n",
       "      <td>2</td>\n",
       "    </tr>\n",
       "  </tbody>\n",
       "</table>\n",
       "</div>"
      ],
      "text/plain": [
       "  Diagnosis     ID Imaginary_Part_Min Imaginary_Part_Avg Real_Part_Min  \\\n",
       "2      COPD  301-4            -320.61       -300.5635307       -495.26   \n",
       "3      COPD  302-3            -325.39       -314.7503595       -473.73   \n",
       "4      COPD  303-3               -323       -317.4360556       -476.12   \n",
       "5      COPD  304-4            -327.78       -317.3996698       -473.73   \n",
       "6      COPD  305-4            -325.39       -316.1557853       -478.52   \n",
       "\n",
       "  Real_Part_Avg  Gender  Age  Smoking  Age_bin  \n",
       "2  -464.1719907       1   77        2        3  \n",
       "3  -469.2631404       0   72        2        3  \n",
       "4  -471.8976667       1   73        3        3  \n",
       "5   -468.856388       1   76        2        3  \n",
       "6  -472.8697828       0   65        2        2  "
      ]
     },
     "execution_count": 14,
     "metadata": {},
     "output_type": "execute_result"
    }
   ],
   "source": [
    "df[:5]"
   ]
  },
  {
   "cell_type": "code",
   "execution_count": 14,
   "metadata": {},
   "outputs": [
    {
     "name": "stdout",
     "output_type": "stream",
     "text": [
      "  Diagnosis     ID Imaginary_Part_Min Imaginary_Part_Avg Real_Part_Min  \\\n",
      "2      COPD  301-4            -320.61       -300.5635307       -495.26   \n",
      "3      COPD  302-3            -325.39       -314.7503595       -473.73   \n",
      "4      COPD  303-3               -323       -317.4360556       -476.12   \n",
      "5      COPD  304-4            -327.78       -317.3996698       -473.73   \n",
      "6      COPD  305-4            -325.39       -316.1557853       -478.52   \n",
      "\n",
      "  Real_Part_Avg  Gender  Age  Smoking  Age_bin  \n",
      "2  -464.1719907       1   77        2        3  \n",
      "3  -469.2631404       0   72        2        3  \n",
      "4  -471.8976667       1   73        3        3  \n",
      "5   -468.856388       1   76        2        3  \n",
      "6  -472.8697828       0   65        2        2  \n"
     ]
    }
   ],
   "source": [
    "#df = load_exasens_data_set()\n",
    "#df = add_binned_column(df, col_name='Age', limits=[30,50,70])\n",
    "#print(df[:5])"
   ]
  },
  {
   "cell_type": "code",
   "execution_count": 15,
   "metadata": {
    "deletable": false,
    "editable": false,
    "nbgrader": {
     "cell_type": "code",
     "checksum": "5d752f5acf9fd62966376c6c39c1c351",
     "grade": true,
     "grade_id": "cell-d8853cd431cf3025",
     "locked": true,
     "points": 5,
     "schema_version": 3,
     "solution": false,
     "task": false
    }
   },
   "outputs": [],
   "source": [
    "# This cell is reserved for the unit tests. Do not consider this cell. "
   ]
  },
  {
   "cell_type": "markdown",
   "metadata": {
    "deletable": false,
    "editable": false,
    "nbgrader": {
     "cell_type": "markdown",
     "checksum": "6670ee0f273fc5ca1df421e291e4c082",
     "grade": false,
     "grade_id": "cell-474849d984df02b3",
     "locked": true,
     "schema_version": 3,
     "solution": false,
     "task": false
    }
   },
   "source": [
    "## Checkpoint\n",
    "\n",
    "This is just a check-point, i.e. it is for you to see that you are correctly implementing all functions.\n",
    "\n",
    "Execute the following code (just execute the next cell):\n",
    "```\n",
    "df = load_exasens_data_set()\n",
    "df = add_binned_column(df, col_name='Age', limits=[30,50,70])\n",
    "print(df[:5])\n",
    "```\n",
    "you should get:\n",
    "```\n",
    "  Diagnosis     ID  Imaginary_Part_Min  Imaginary_Part_Avg  Real_Part_Min  \\\n",
    "0      COPD  301-4             -320.61         -300.563531        -495.26   \n",
    "1      COPD  302-3             -325.39         -314.750360        -473.73   \n",
    "2      COPD  303-3             -323.00         -317.436056        -476.12   \n",
    "3      COPD  304-4             -327.78         -317.399670        -473.73   \n",
    "4      COPD  305-4             -325.39         -316.155785        -478.52   \n",
    "\n",
    "   Real_Part_Avg  Gender  Age  Smoking  Age_bin  \n",
    "0    -464.171991       1   77        2        3  \n",
    "1    -469.263140       0   72        2        3  \n",
    "2    -471.897667       1   73        3        3  \n",
    "3    -468.856388       1   76        2        3  \n",
    "4    -472.869783       0   65        2        2  \n",
    "```"
   ]
  },
  {
   "cell_type": "code",
   "execution_count": 15,
   "metadata": {
    "deletable": false,
    "editable": false,
    "nbgrader": {
     "cell_type": "code",
     "checksum": "748a046cadb3799669409b196e2a91bf",
     "grade": false,
     "grade_id": "cell-e4e74455cc99b0c2",
     "locked": true,
     "schema_version": 3,
     "solution": false,
     "task": false
    }
   },
   "outputs": [
    {
     "name": "stdout",
     "output_type": "stream",
     "text": [
      "  Diagnosis     ID Imaginary_Part_Min Imaginary_Part_Avg Real_Part_Min  \\\n",
      "2      COPD  301-4            -320.61       -300.5635307       -495.26   \n",
      "3      COPD  302-3            -325.39       -314.7503595       -473.73   \n",
      "4      COPD  303-3               -323       -317.4360556       -476.12   \n",
      "5      COPD  304-4            -327.78       -317.3996698       -473.73   \n",
      "6      COPD  305-4            -325.39       -316.1557853       -478.52   \n",
      "\n",
      "  Real_Part_Avg  Gender  Age  Smoking  Age_bin  \n",
      "2  -464.1719907       1   77        2        3  \n",
      "3  -469.2631404       0   72        2        3  \n",
      "4  -471.8976667       1   73        3        3  \n",
      "5   -468.856388       1   76        2        3  \n",
      "6  -472.8697828       0   65        2        2  \n"
     ]
    }
   ],
   "source": [
    "# Just run the following code, do not modify it\n",
    "\n",
    "df = load_exasens_data_set()\n",
    "df = add_binned_column(df, col_name='Age', limits=[30,50,70])\n",
    "print(df[:5])"
   ]
  },
  {
   "cell_type": "markdown",
   "metadata": {
    "deletable": false,
    "editable": false,
    "nbgrader": {
     "cell_type": "markdown",
     "checksum": "656b926afaf1686af40fe8291374b506",
     "grade": false,
     "grade_id": "cell-f0e171415bdb958e",
     "locked": true,
     "schema_version": 3,
     "solution": false,
     "task": false
    }
   },
   "source": [
    "## Question 1.3 (4 marks)\n",
    "\n",
    "Make a function `add_class(df, col_name)` to return a data frame with an added new column with fixed label of \"target\".\n",
    "\n",
    "The function considers the distinct categorical values present in the column with label `col_name` in the input data frame `df` and maps them to integers.\n",
    "\n",
    "For example, if the input data frame `df` has a column with label `Diagnosis` with values `[COPD, COPD, HC, Asthma, HC, COPD]`, by calling `df = add_class(df, col_name='Diagnosis')` then the new column `target` in the output dataframe will have values `[0,0,1,2,1,0]`."
   ]
  },
  {
   "cell_type": "code",
   "execution_count": 17,
   "metadata": {
    "deletable": false,
    "nbgrader": {
     "cell_type": "code",
     "checksum": "119cfb7056f0caa9c746db73802f1c8f",
     "grade": false,
     "grade_id": "cell-667dd7adfe19f946",
     "locked": false,
     "schema_version": 3,
     "solution": true,
     "task": false
    }
   },
   "outputs": [],
   "source": [
    "def add_class(df, col_name):\n",
    "    # YOUR CODE HERE\n",
    "    raise NotImplementedError()"
   ]
  },
  {
   "cell_type": "code",
   "execution_count": 16,
   "metadata": {},
   "outputs": [],
   "source": [
    "def add_class(df, col_name):\n",
    "    diagnosis = df[col_name].values\n",
    "    target = []\n",
    "    for i in diagnosis:\n",
    "        if(i == 'COPD'):\n",
    "            target.append(0)\n",
    "        if(i == 'HC'):\n",
    "            target.append(1)\n",
    "        if(i == 'Asthma'):\n",
    "            target.append(2)\n",
    "        if(i == 'Infected'):\n",
    "            target.append(3)\n",
    "    df['target'] = target\n",
    "    return df"
   ]
  },
  {
   "cell_type": "code",
   "execution_count": 17,
   "metadata": {},
   "outputs": [],
   "source": [
    "df = add_class(df, col_name='Diagnosis')"
   ]
  },
  {
   "cell_type": "code",
   "execution_count": 18,
   "metadata": {},
   "outputs": [
    {
     "data": {
      "text/plain": [
       "array(['COPD', 'HC', 'Asthma', 'Infected'], dtype=object)"
      ]
     },
     "execution_count": 18,
     "metadata": {},
     "output_type": "execute_result"
    }
   ],
   "source": [
    "df['Diagnosis'].unique()"
   ]
  },
  {
   "cell_type": "code",
   "execution_count": 19,
   "metadata": {},
   "outputs": [
    {
     "data": {
      "text/html": [
       "<div>\n",
       "<style scoped>\n",
       "    .dataframe tbody tr th:only-of-type {\n",
       "        vertical-align: middle;\n",
       "    }\n",
       "\n",
       "    .dataframe tbody tr th {\n",
       "        vertical-align: top;\n",
       "    }\n",
       "\n",
       "    .dataframe thead th {\n",
       "        text-align: right;\n",
       "    }\n",
       "</style>\n",
       "<table border=\"1\" class=\"dataframe\">\n",
       "  <thead>\n",
       "    <tr style=\"text-align: right;\">\n",
       "      <th></th>\n",
       "      <th>Diagnosis</th>\n",
       "      <th>ID</th>\n",
       "      <th>Imaginary_Part_Min</th>\n",
       "      <th>Imaginary_Part_Avg</th>\n",
       "      <th>Real_Part_Min</th>\n",
       "      <th>Real_Part_Avg</th>\n",
       "      <th>Gender</th>\n",
       "      <th>Age</th>\n",
       "      <th>Smoking</th>\n",
       "      <th>Age_bin</th>\n",
       "      <th>target</th>\n",
       "    </tr>\n",
       "  </thead>\n",
       "  <tbody>\n",
       "    <tr>\n",
       "      <th>2</th>\n",
       "      <td>COPD</td>\n",
       "      <td>301-4</td>\n",
       "      <td>-320.61</td>\n",
       "      <td>-300.5635307</td>\n",
       "      <td>-495.26</td>\n",
       "      <td>-464.1719907</td>\n",
       "      <td>1</td>\n",
       "      <td>77</td>\n",
       "      <td>2</td>\n",
       "      <td>3</td>\n",
       "      <td>0</td>\n",
       "    </tr>\n",
       "    <tr>\n",
       "      <th>3</th>\n",
       "      <td>COPD</td>\n",
       "      <td>302-3</td>\n",
       "      <td>-325.39</td>\n",
       "      <td>-314.7503595</td>\n",
       "      <td>-473.73</td>\n",
       "      <td>-469.2631404</td>\n",
       "      <td>0</td>\n",
       "      <td>72</td>\n",
       "      <td>2</td>\n",
       "      <td>3</td>\n",
       "      <td>0</td>\n",
       "    </tr>\n",
       "    <tr>\n",
       "      <th>4</th>\n",
       "      <td>COPD</td>\n",
       "      <td>303-3</td>\n",
       "      <td>-323</td>\n",
       "      <td>-317.4360556</td>\n",
       "      <td>-476.12</td>\n",
       "      <td>-471.8976667</td>\n",
       "      <td>1</td>\n",
       "      <td>73</td>\n",
       "      <td>3</td>\n",
       "      <td>3</td>\n",
       "      <td>0</td>\n",
       "    </tr>\n",
       "    <tr>\n",
       "      <th>5</th>\n",
       "      <td>COPD</td>\n",
       "      <td>304-4</td>\n",
       "      <td>-327.78</td>\n",
       "      <td>-317.3996698</td>\n",
       "      <td>-473.73</td>\n",
       "      <td>-468.856388</td>\n",
       "      <td>1</td>\n",
       "      <td>76</td>\n",
       "      <td>2</td>\n",
       "      <td>3</td>\n",
       "      <td>0</td>\n",
       "    </tr>\n",
       "    <tr>\n",
       "      <th>6</th>\n",
       "      <td>COPD</td>\n",
       "      <td>305-4</td>\n",
       "      <td>-325.39</td>\n",
       "      <td>-316.1557853</td>\n",
       "      <td>-478.52</td>\n",
       "      <td>-472.8697828</td>\n",
       "      <td>0</td>\n",
       "      <td>65</td>\n",
       "      <td>2</td>\n",
       "      <td>2</td>\n",
       "      <td>0</td>\n",
       "    </tr>\n",
       "    <tr>\n",
       "      <th>...</th>\n",
       "      <td>...</td>\n",
       "      <td>...</td>\n",
       "      <td>...</td>\n",
       "      <td>...</td>\n",
       "      <td>...</td>\n",
       "      <td>...</td>\n",
       "      <td>...</td>\n",
       "      <td>...</td>\n",
       "      <td>...</td>\n",
       "      <td>...</td>\n",
       "      <td>...</td>\n",
       "    </tr>\n",
       "    <tr>\n",
       "      <th>396</th>\n",
       "      <td>Infected</td>\n",
       "      <td>I176</td>\n",
       "      <td>NaN</td>\n",
       "      <td>NaN</td>\n",
       "      <td>NaN</td>\n",
       "      <td>NaN</td>\n",
       "      <td>0</td>\n",
       "      <td>49</td>\n",
       "      <td>2</td>\n",
       "      <td>1</td>\n",
       "      <td>3</td>\n",
       "    </tr>\n",
       "    <tr>\n",
       "      <th>397</th>\n",
       "      <td>Infected</td>\n",
       "      <td>I177</td>\n",
       "      <td>NaN</td>\n",
       "      <td>NaN</td>\n",
       "      <td>NaN</td>\n",
       "      <td>NaN</td>\n",
       "      <td>0</td>\n",
       "      <td>37</td>\n",
       "      <td>1</td>\n",
       "      <td>1</td>\n",
       "      <td>3</td>\n",
       "    </tr>\n",
       "    <tr>\n",
       "      <th>398</th>\n",
       "      <td>Infected</td>\n",
       "      <td>I178</td>\n",
       "      <td>NaN</td>\n",
       "      <td>NaN</td>\n",
       "      <td>NaN</td>\n",
       "      <td>NaN</td>\n",
       "      <td>0</td>\n",
       "      <td>29</td>\n",
       "      <td>1</td>\n",
       "      <td>0</td>\n",
       "      <td>3</td>\n",
       "    </tr>\n",
       "    <tr>\n",
       "      <th>399</th>\n",
       "      <td>Infected</td>\n",
       "      <td>I179</td>\n",
       "      <td>NaN</td>\n",
       "      <td>NaN</td>\n",
       "      <td>NaN</td>\n",
       "      <td>NaN</td>\n",
       "      <td>1</td>\n",
       "      <td>51</td>\n",
       "      <td>1</td>\n",
       "      <td>2</td>\n",
       "      <td>3</td>\n",
       "    </tr>\n",
       "    <tr>\n",
       "      <th>400</th>\n",
       "      <td>Infected</td>\n",
       "      <td>I180</td>\n",
       "      <td>NaN</td>\n",
       "      <td>NaN</td>\n",
       "      <td>NaN</td>\n",
       "      <td>NaN</td>\n",
       "      <td>0</td>\n",
       "      <td>40</td>\n",
       "      <td>1</td>\n",
       "      <td>1</td>\n",
       "      <td>3</td>\n",
       "    </tr>\n",
       "  </tbody>\n",
       "</table>\n",
       "<p>399 rows × 11 columns</p>\n",
       "</div>"
      ],
      "text/plain": [
       "    Diagnosis     ID Imaginary_Part_Min Imaginary_Part_Avg Real_Part_Min  \\\n",
       "2        COPD  301-4            -320.61       -300.5635307       -495.26   \n",
       "3        COPD  302-3            -325.39       -314.7503595       -473.73   \n",
       "4        COPD  303-3               -323       -317.4360556       -476.12   \n",
       "5        COPD  304-4            -327.78       -317.3996698       -473.73   \n",
       "6        COPD  305-4            -325.39       -316.1557853       -478.52   \n",
       "..        ...    ...                ...                ...           ...   \n",
       "396  Infected   I176                NaN                NaN           NaN   \n",
       "397  Infected   I177                NaN                NaN           NaN   \n",
       "398  Infected   I178                NaN                NaN           NaN   \n",
       "399  Infected   I179                NaN                NaN           NaN   \n",
       "400  Infected   I180                NaN                NaN           NaN   \n",
       "\n",
       "    Real_Part_Avg  Gender  Age  Smoking  Age_bin  target  \n",
       "2    -464.1719907       1   77        2        3       0  \n",
       "3    -469.2631404       0   72        2        3       0  \n",
       "4    -471.8976667       1   73        3        3       0  \n",
       "5     -468.856388       1   76        2        3       0  \n",
       "6    -472.8697828       0   65        2        2       0  \n",
       "..            ...     ...  ...      ...      ...     ...  \n",
       "396           NaN       0   49        2        1       3  \n",
       "397           NaN       0   37        1        1       3  \n",
       "398           NaN       0   29        1        0       3  \n",
       "399           NaN       1   51        1        2       3  \n",
       "400           NaN       0   40        1        1       3  \n",
       "\n",
       "[399 rows x 11 columns]"
      ]
     },
     "execution_count": 19,
     "metadata": {},
     "output_type": "execute_result"
    }
   ],
   "source": [
    "df"
   ]
  },
  {
   "cell_type": "code",
   "execution_count": null,
   "metadata": {},
   "outputs": [],
   "source": []
  },
  {
   "cell_type": "code",
   "execution_count": null,
   "metadata": {},
   "outputs": [],
   "source": []
  },
  {
   "cell_type": "code",
   "execution_count": null,
   "metadata": {},
   "outputs": [],
   "source": []
  },
  {
   "cell_type": "code",
   "execution_count": null,
   "metadata": {},
   "outputs": [],
   "source": []
  },
  {
   "cell_type": "code",
   "execution_count": null,
   "metadata": {},
   "outputs": [],
   "source": []
  },
  {
   "cell_type": "code",
   "execution_count": null,
   "metadata": {},
   "outputs": [],
   "source": []
  },
  {
   "cell_type": "code",
   "execution_count": null,
   "metadata": {},
   "outputs": [],
   "source": []
  },
  {
   "cell_type": "code",
   "execution_count": null,
   "metadata": {},
   "outputs": [],
   "source": []
  },
  {
   "cell_type": "code",
   "execution_count": null,
   "metadata": {},
   "outputs": [],
   "source": []
  },
  {
   "cell_type": "code",
   "execution_count": null,
   "metadata": {},
   "outputs": [],
   "source": []
  },
  {
   "cell_type": "code",
   "execution_count": 22,
   "metadata": {
    "deletable": false,
    "editable": false,
    "nbgrader": {
     "cell_type": "code",
     "checksum": "57dc47d025076b525d9217fbe89a7fa3",
     "grade": true,
     "grade_id": "cell-de58cc1715f86005",
     "locked": true,
     "points": 4,
     "schema_version": 3,
     "solution": false,
     "task": false
    }
   },
   "outputs": [],
   "source": [
    "# This cell is reserved for the unit tests. Do not consider this cell. "
   ]
  },
  {
   "cell_type": "markdown",
   "metadata": {
    "deletable": false,
    "editable": false,
    "nbgrader": {
     "cell_type": "markdown",
     "checksum": "56f02361e65b35d5854b9691404a3f8f",
     "grade": false,
     "grade_id": "cell-98c1a18ed49260a3",
     "locked": true,
     "schema_version": 3,
     "solution": false,
     "task": false
    }
   },
   "source": [
    "## Question 1.4 (6 marks)\n",
    "\n",
    "Make a function `replace_missing_with_conditional_mean(df, condition_cols, cols)` to replace the missing values present in columns with labels in the list `cols`. This function must not change the input dataframe, and return a new dataframe.\n",
    "\n",
    "The value to be replaced is computed as the mean of the non missing values of the corresponding group. Groups are formed based on the values in the columns with labels in the list `condition_cols`. \n",
    "\n",
    "\n",
    "For example if you have the following data frame `df`:\n",
    "```\n",
    "  Col1 Col2  Col3\n",
    "0    A    c   1.0\n",
    "1    A    c   3.0\n",
    "2    B    c   5.0\n",
    "3    A    d   6.0\n",
    "4    A    c   NaN\n",
    "```\n",
    "then applying `replace_missing_with_conditional_mean(df, condition_cols=['Col1','Col2'], cols=['Col3'])` should yield in output\n",
    "```\n",
    "  Col1 Col2  Col3\n",
    "0    A    c   1.0\n",
    "1    A    c   3.0\n",
    "2    B    c   5.0\n",
    "3    A    d   6.0\n",
    "4    A    c   2.0\n",
    "```\n",
    "this is because the record on line 4 belongs to the group `A c` that has a mean of `(1+3)/2 = 2`."
   ]
  },
  {
   "cell_type": "code",
   "execution_count": 23,
   "metadata": {
    "deletable": false,
    "nbgrader": {
     "cell_type": "code",
     "checksum": "831f46c930e548d4935dfc8e62362d2b",
     "grade": false,
     "grade_id": "cell-ab243fa722726491",
     "locked": false,
     "schema_version": 3,
     "solution": true,
     "task": false
    }
   },
   "outputs": [],
   "source": [
    "def replace_missing_with_conditional_mean(df, condition_cols, cols):\n",
    "    # YOUR CODE HERE\n",
    "    raise NotImplementedError()"
   ]
  },
  {
   "cell_type": "code",
   "execution_count": 91,
   "metadata": {},
   "outputs": [
    {
     "name": "stdout",
     "output_type": "stream",
     "text": [
      "<class 'pandas.core.frame.DataFrame'>\n",
      "RangeIndex: 399 entries, 2 to 400\n",
      "Data columns (total 11 columns):\n",
      " #   Column              Non-Null Count  Dtype \n",
      "---  ------              --------------  ----- \n",
      " 0   Diagnosis           399 non-null    object\n",
      " 1   ID                  399 non-null    object\n",
      " 2   Imaginary_Part_Min  100 non-null    object\n",
      " 3   Imaginary_Part_Avg  100 non-null    object\n",
      " 4   Real_Part_Min       100 non-null    object\n",
      " 5   Real_Part_Avg       100 non-null    object\n",
      " 6   Gender              399 non-null    int64 \n",
      " 7   Age                 399 non-null    int64 \n",
      " 8   Smoking             399 non-null    int64 \n",
      " 9   Age_bin             399 non-null    int64 \n",
      " 10  target              399 non-null    int64 \n",
      "dtypes: int64(5), object(6)\n",
      "memory usage: 34.4+ KB\n"
     ]
    }
   ],
   "source": [
    "df.info()"
   ]
  },
  {
   "cell_type": "code",
   "execution_count": 25,
   "metadata": {},
   "outputs": [],
   "source": [
    "df_copy = df.copy()"
   ]
  },
  {
   "cell_type": "code",
   "execution_count": 26,
   "metadata": {},
   "outputs": [
    {
     "data": {
      "text/html": [
       "<div>\n",
       "<style scoped>\n",
       "    .dataframe tbody tr th:only-of-type {\n",
       "        vertical-align: middle;\n",
       "    }\n",
       "\n",
       "    .dataframe tbody tr th {\n",
       "        vertical-align: top;\n",
       "    }\n",
       "\n",
       "    .dataframe thead th {\n",
       "        text-align: right;\n",
       "    }\n",
       "</style>\n",
       "<table border=\"1\" class=\"dataframe\">\n",
       "  <thead>\n",
       "    <tr style=\"text-align: right;\">\n",
       "      <th></th>\n",
       "      <th>Diagnosis</th>\n",
       "      <th>ID</th>\n",
       "      <th>Imaginary_Part_Min</th>\n",
       "      <th>Imaginary_Part_Avg</th>\n",
       "      <th>Real_Part_Min</th>\n",
       "      <th>Real_Part_Avg</th>\n",
       "      <th>Gender</th>\n",
       "      <th>Age</th>\n",
       "      <th>Smoking</th>\n",
       "      <th>Age_bin</th>\n",
       "      <th>target</th>\n",
       "    </tr>\n",
       "  </thead>\n",
       "  <tbody>\n",
       "    <tr>\n",
       "      <th>2</th>\n",
       "      <td>COPD</td>\n",
       "      <td>301-4</td>\n",
       "      <td>-320.61</td>\n",
       "      <td>-300.5635307</td>\n",
       "      <td>-495.26</td>\n",
       "      <td>-464.1719907</td>\n",
       "      <td>1</td>\n",
       "      <td>77</td>\n",
       "      <td>2</td>\n",
       "      <td>3</td>\n",
       "      <td>0</td>\n",
       "    </tr>\n",
       "    <tr>\n",
       "      <th>3</th>\n",
       "      <td>COPD</td>\n",
       "      <td>302-3</td>\n",
       "      <td>-325.39</td>\n",
       "      <td>-314.7503595</td>\n",
       "      <td>-473.73</td>\n",
       "      <td>-469.2631404</td>\n",
       "      <td>0</td>\n",
       "      <td>72</td>\n",
       "      <td>2</td>\n",
       "      <td>3</td>\n",
       "      <td>0</td>\n",
       "    </tr>\n",
       "    <tr>\n",
       "      <th>4</th>\n",
       "      <td>COPD</td>\n",
       "      <td>303-3</td>\n",
       "      <td>-323</td>\n",
       "      <td>-317.4360556</td>\n",
       "      <td>-476.12</td>\n",
       "      <td>-471.8976667</td>\n",
       "      <td>1</td>\n",
       "      <td>73</td>\n",
       "      <td>3</td>\n",
       "      <td>3</td>\n",
       "      <td>0</td>\n",
       "    </tr>\n",
       "    <tr>\n",
       "      <th>5</th>\n",
       "      <td>COPD</td>\n",
       "      <td>304-4</td>\n",
       "      <td>-327.78</td>\n",
       "      <td>-317.3996698</td>\n",
       "      <td>-473.73</td>\n",
       "      <td>-468.856388</td>\n",
       "      <td>1</td>\n",
       "      <td>76</td>\n",
       "      <td>2</td>\n",
       "      <td>3</td>\n",
       "      <td>0</td>\n",
       "    </tr>\n",
       "    <tr>\n",
       "      <th>6</th>\n",
       "      <td>COPD</td>\n",
       "      <td>305-4</td>\n",
       "      <td>-325.39</td>\n",
       "      <td>-316.1557853</td>\n",
       "      <td>-478.52</td>\n",
       "      <td>-472.8697828</td>\n",
       "      <td>0</td>\n",
       "      <td>65</td>\n",
       "      <td>2</td>\n",
       "      <td>2</td>\n",
       "      <td>0</td>\n",
       "    </tr>\n",
       "    <tr>\n",
       "      <th>...</th>\n",
       "      <td>...</td>\n",
       "      <td>...</td>\n",
       "      <td>...</td>\n",
       "      <td>...</td>\n",
       "      <td>...</td>\n",
       "      <td>...</td>\n",
       "      <td>...</td>\n",
       "      <td>...</td>\n",
       "      <td>...</td>\n",
       "      <td>...</td>\n",
       "      <td>...</td>\n",
       "    </tr>\n",
       "    <tr>\n",
       "      <th>396</th>\n",
       "      <td>Infected</td>\n",
       "      <td>I176</td>\n",
       "      <td>NaN</td>\n",
       "      <td>NaN</td>\n",
       "      <td>NaN</td>\n",
       "      <td>NaN</td>\n",
       "      <td>0</td>\n",
       "      <td>49</td>\n",
       "      <td>2</td>\n",
       "      <td>1</td>\n",
       "      <td>3</td>\n",
       "    </tr>\n",
       "    <tr>\n",
       "      <th>397</th>\n",
       "      <td>Infected</td>\n",
       "      <td>I177</td>\n",
       "      <td>NaN</td>\n",
       "      <td>NaN</td>\n",
       "      <td>NaN</td>\n",
       "      <td>NaN</td>\n",
       "      <td>0</td>\n",
       "      <td>37</td>\n",
       "      <td>1</td>\n",
       "      <td>1</td>\n",
       "      <td>3</td>\n",
       "    </tr>\n",
       "    <tr>\n",
       "      <th>398</th>\n",
       "      <td>Infected</td>\n",
       "      <td>I178</td>\n",
       "      <td>NaN</td>\n",
       "      <td>NaN</td>\n",
       "      <td>NaN</td>\n",
       "      <td>NaN</td>\n",
       "      <td>0</td>\n",
       "      <td>29</td>\n",
       "      <td>1</td>\n",
       "      <td>0</td>\n",
       "      <td>3</td>\n",
       "    </tr>\n",
       "    <tr>\n",
       "      <th>399</th>\n",
       "      <td>Infected</td>\n",
       "      <td>I179</td>\n",
       "      <td>NaN</td>\n",
       "      <td>NaN</td>\n",
       "      <td>NaN</td>\n",
       "      <td>NaN</td>\n",
       "      <td>1</td>\n",
       "      <td>51</td>\n",
       "      <td>1</td>\n",
       "      <td>2</td>\n",
       "      <td>3</td>\n",
       "    </tr>\n",
       "    <tr>\n",
       "      <th>400</th>\n",
       "      <td>Infected</td>\n",
       "      <td>I180</td>\n",
       "      <td>NaN</td>\n",
       "      <td>NaN</td>\n",
       "      <td>NaN</td>\n",
       "      <td>NaN</td>\n",
       "      <td>0</td>\n",
       "      <td>40</td>\n",
       "      <td>1</td>\n",
       "      <td>1</td>\n",
       "      <td>3</td>\n",
       "    </tr>\n",
       "  </tbody>\n",
       "</table>\n",
       "<p>399 rows × 11 columns</p>\n",
       "</div>"
      ],
      "text/plain": [
       "    Diagnosis     ID Imaginary_Part_Min Imaginary_Part_Avg Real_Part_Min  \\\n",
       "2        COPD  301-4            -320.61       -300.5635307       -495.26   \n",
       "3        COPD  302-3            -325.39       -314.7503595       -473.73   \n",
       "4        COPD  303-3               -323       -317.4360556       -476.12   \n",
       "5        COPD  304-4            -327.78       -317.3996698       -473.73   \n",
       "6        COPD  305-4            -325.39       -316.1557853       -478.52   \n",
       "..        ...    ...                ...                ...           ...   \n",
       "396  Infected   I176                NaN                NaN           NaN   \n",
       "397  Infected   I177                NaN                NaN           NaN   \n",
       "398  Infected   I178                NaN                NaN           NaN   \n",
       "399  Infected   I179                NaN                NaN           NaN   \n",
       "400  Infected   I180                NaN                NaN           NaN   \n",
       "\n",
       "    Real_Part_Avg  Gender  Age  Smoking  Age_bin  target  \n",
       "2    -464.1719907       1   77        2        3       0  \n",
       "3    -469.2631404       0   72        2        3       0  \n",
       "4    -471.8976667       1   73        3        3       0  \n",
       "5     -468.856388       1   76        2        3       0  \n",
       "6    -472.8697828       0   65        2        2       0  \n",
       "..            ...     ...  ...      ...      ...     ...  \n",
       "396           NaN       0   49        2        1       3  \n",
       "397           NaN       0   37        1        1       3  \n",
       "398           NaN       0   29        1        0       3  \n",
       "399           NaN       1   51        1        2       3  \n",
       "400           NaN       0   40        1        1       3  \n",
       "\n",
       "[399 rows x 11 columns]"
      ]
     },
     "execution_count": 26,
     "metadata": {},
     "output_type": "execute_result"
    }
   ],
   "source": [
    "df_copy"
   ]
  },
  {
   "cell_type": "code",
   "execution_count": 20,
   "metadata": {},
   "outputs": [],
   "source": [
    "def replace_missing_with_conditional_mean(df, condition_cols, cols):\n",
    "    df = df.astype({'Imaginary_Part_Min':'float','Imaginary_Part_Avg':'float', 'Real_Part_Min':'float','Real_Part_Avg':'float'})\n",
    "    for col in cols:\n",
    "        #print('Processing column: ' , col)\n",
    "        df.loc[df[col].isnull(), col] = df.groupby(condition_cols)[col].transform('mean')\n",
    "        \n",
    "        #df_copy_inner[col].fillna(df_copy_inner.groupby(condition_cols)[col].transform(\"mean\"),inplace=True,axis=0)\n",
    "    return df"
   ]
  },
  {
   "cell_type": "code",
   "execution_count": 21,
   "metadata": {},
   "outputs": [],
   "source": [
    "df = replace_missing_with_conditional_mean(df, condition_cols=['Smoking','Gender','Age_bin'], cols=['Imaginary_Part_Min','Imaginary_Part_Avg','Real_Part_Min', 'Real_Part_Avg'])"
   ]
  },
  {
   "cell_type": "code",
   "execution_count": 23,
   "metadata": {},
   "outputs": [
    {
     "data": {
      "text/plain": [
       "Diagnosis              0\n",
       "ID                     0\n",
       "Imaginary_Part_Min    11\n",
       "Imaginary_Part_Avg    11\n",
       "Real_Part_Min         11\n",
       "Real_Part_Avg         11\n",
       "Gender                 0\n",
       "Age                    0\n",
       "Smoking                0\n",
       "Age_bin                0\n",
       "target                 0\n",
       "dtype: int64"
      ]
     },
     "execution_count": 23,
     "metadata": {},
     "output_type": "execute_result"
    }
   ],
   "source": [
    "df.isnull().sum()"
   ]
  },
  {
   "cell_type": "code",
   "execution_count": 31,
   "metadata": {},
   "outputs": [
    {
     "data": {
      "text/plain": [
       "2"
      ]
     },
     "execution_count": 31,
     "metadata": {},
     "output_type": "execute_result"
    }
   ],
   "source": [
    "df_copy_outer.ndim"
   ]
  },
  {
   "cell_type": "code",
   "execution_count": null,
   "metadata": {},
   "outputs": [],
   "source": []
  },
  {
   "cell_type": "code",
   "execution_count": null,
   "metadata": {},
   "outputs": [],
   "source": []
  },
  {
   "cell_type": "code",
   "execution_count": null,
   "metadata": {},
   "outputs": [],
   "source": []
  },
  {
   "cell_type": "code",
   "execution_count": null,
   "metadata": {},
   "outputs": [],
   "source": []
  },
  {
   "cell_type": "code",
   "execution_count": null,
   "metadata": {},
   "outputs": [],
   "source": []
  },
  {
   "cell_type": "code",
   "execution_count": 32,
   "metadata": {
    "deletable": false,
    "editable": false,
    "nbgrader": {
     "cell_type": "code",
     "checksum": "019dec78228c7a3e53df6411500ea28b",
     "grade": true,
     "grade_id": "cell-b9fb8cabee4e7fd8",
     "locked": true,
     "points": 6,
     "schema_version": 3,
     "solution": false,
     "task": false
    }
   },
   "outputs": [],
   "source": [
    "# This cell is reserved for the unit tests. Do not consider this cell. "
   ]
  },
  {
   "cell_type": "code",
   "execution_count": 33,
   "metadata": {},
   "outputs": [],
   "source": [
    "#Temporary removing nulls for now to proceed\n",
    "#df1 = df.dropna()\n",
    "#df1.drop(['Diagnosis'], axis=1, inplace=True)"
   ]
  },
  {
   "cell_type": "code",
   "execution_count": null,
   "metadata": {},
   "outputs": [],
   "source": []
  },
  {
   "cell_type": "code",
   "execution_count": null,
   "metadata": {},
   "outputs": [],
   "source": []
  },
  {
   "cell_type": "code",
   "execution_count": null,
   "metadata": {},
   "outputs": [],
   "source": []
  },
  {
   "cell_type": "code",
   "execution_count": null,
   "metadata": {},
   "outputs": [],
   "source": []
  },
  {
   "cell_type": "code",
   "execution_count": null,
   "metadata": {},
   "outputs": [],
   "source": []
  },
  {
   "cell_type": "markdown",
   "metadata": {
    "deletable": false,
    "editable": false,
    "nbgrader": {
     "cell_type": "markdown",
     "checksum": "d8c7c393a0bc493ab359947d4129442d",
     "grade": false,
     "grade_id": "cell-7d689badcb3bae98",
     "locked": true,
     "schema_version": 3,
     "solution": false,
     "task": false
    }
   },
   "source": [
    "### Question 1.5 (3 marks)\n",
    "\n",
    "Make a function `standardize(df, cols)` that outputs a data frame where the values for the columns with labels in the list `cols` have been standardized, that is, they have been processed to have zero mean and standard deviation of 1."
   ]
  },
  {
   "cell_type": "code",
   "execution_count": 34,
   "metadata": {
    "deletable": false,
    "nbgrader": {
     "cell_type": "code",
     "checksum": "e1b0546f10573406b6adb2d19b1e622f",
     "grade": false,
     "grade_id": "cell-9b376137138593d4",
     "locked": false,
     "schema_version": 3,
     "solution": true,
     "task": false
    }
   },
   "outputs": [],
   "source": [
    "def standardize(df, cols):\n",
    "    # YOUR CODE HERE\n",
    "    raise NotImplementedError()"
   ]
  },
  {
   "cell_type": "code",
   "execution_count": 24,
   "metadata": {},
   "outputs": [],
   "source": [
    "def standardize(df, cols):\n",
    "    dataset = df[cols]\n",
    "    #dataset = df1.astype({'Imaginary_Part_Min':'float','Imaginary_Part_Avg':'float','Real_Part_Min':'float','Real_Part_Avg':'float'})\n",
    "    dataNorm=((dataset-dataset.min())/(dataset.max()-dataset.min()))*20\n",
    "    return dataNorm"
   ]
  },
  {
   "cell_type": "code",
   "execution_count": 25,
   "metadata": {},
   "outputs": [],
   "source": [
    "#def normalize(dataset):\n",
    "#    dataNorm=((dataset-dataset.min())/(dataset.max()-dataset.min()))*20\n",
    "#    return dataNorm"
   ]
  },
  {
   "cell_type": "code",
   "execution_count": null,
   "metadata": {},
   "outputs": [],
   "source": []
  },
  {
   "cell_type": "code",
   "execution_count": 26,
   "metadata": {},
   "outputs": [],
   "source": [
    "cols=['Imaginary_Part_Min','Imaginary_Part_Avg','Real_Part_Min', 'Real_Part_Avg','Gender','Age','Smoking']\n",
    "df3 = standardize(df, cols)"
   ]
  },
  {
   "cell_type": "code",
   "execution_count": 27,
   "metadata": {},
   "outputs": [
    {
     "data": {
      "text/html": [
       "<div>\n",
       "<style scoped>\n",
       "    .dataframe tbody tr th:only-of-type {\n",
       "        vertical-align: middle;\n",
       "    }\n",
       "\n",
       "    .dataframe tbody tr th {\n",
       "        vertical-align: top;\n",
       "    }\n",
       "\n",
       "    .dataframe thead th {\n",
       "        text-align: right;\n",
       "    }\n",
       "</style>\n",
       "<table border=\"1\" class=\"dataframe\">\n",
       "  <thead>\n",
       "    <tr style=\"text-align: right;\">\n",
       "      <th></th>\n",
       "      <th>Imaginary_Part_Min</th>\n",
       "      <th>Imaginary_Part_Avg</th>\n",
       "      <th>Real_Part_Min</th>\n",
       "      <th>Real_Part_Avg</th>\n",
       "      <th>Gender</th>\n",
       "      <th>Age</th>\n",
       "      <th>Smoking</th>\n",
       "    </tr>\n",
       "  </thead>\n",
       "  <tbody>\n",
       "    <tr>\n",
       "      <th>2</th>\n",
       "      <td>2.979973</td>\n",
       "      <td>5.367388</td>\n",
       "      <td>4.515664</td>\n",
       "      <td>0.453876</td>\n",
       "      <td>20.0</td>\n",
       "      <td>15.789474</td>\n",
       "      <td>10.0</td>\n",
       "    </tr>\n",
       "    <tr>\n",
       "      <th>3</th>\n",
       "      <td>2.129061</td>\n",
       "      <td>2.620158</td>\n",
       "      <td>5.254435</td>\n",
       "      <td>0.217039</td>\n",
       "      <td>0.0</td>\n",
       "      <td>14.473684</td>\n",
       "      <td>10.0</td>\n",
       "    </tr>\n",
       "    <tr>\n",
       "      <th>4</th>\n",
       "      <td>2.554517</td>\n",
       "      <td>2.100083</td>\n",
       "      <td>5.172426</td>\n",
       "      <td>0.094482</td>\n",
       "      <td>20.0</td>\n",
       "      <td>14.736842</td>\n",
       "      <td>20.0</td>\n",
       "    </tr>\n",
       "    <tr>\n",
       "      <th>5</th>\n",
       "      <td>1.703605</td>\n",
       "      <td>2.107129</td>\n",
       "      <td>5.254435</td>\n",
       "      <td>0.235961</td>\n",
       "      <td>20.0</td>\n",
       "      <td>15.526316</td>\n",
       "      <td>10.0</td>\n",
       "    </tr>\n",
       "    <tr>\n",
       "      <th>6</th>\n",
       "      <td>2.129061</td>\n",
       "      <td>2.348002</td>\n",
       "      <td>5.090073</td>\n",
       "      <td>0.049260</td>\n",
       "      <td>0.0</td>\n",
       "      <td>12.631579</td>\n",
       "      <td>10.0</td>\n",
       "    </tr>\n",
       "  </tbody>\n",
       "</table>\n",
       "</div>"
      ],
      "text/plain": [
       "   Imaginary_Part_Min  Imaginary_Part_Avg  Real_Part_Min  Real_Part_Avg  \\\n",
       "2            2.979973            5.367388       4.515664       0.453876   \n",
       "3            2.129061            2.620158       5.254435       0.217039   \n",
       "4            2.554517            2.100083       5.172426       0.094482   \n",
       "5            1.703605            2.107129       5.254435       0.235961   \n",
       "6            2.129061            2.348002       5.090073       0.049260   \n",
       "\n",
       "   Gender        Age  Smoking  \n",
       "2    20.0  15.789474     10.0  \n",
       "3     0.0  14.473684     10.0  \n",
       "4    20.0  14.736842     20.0  \n",
       "5    20.0  15.526316     10.0  \n",
       "6     0.0  12.631579     10.0  "
      ]
     },
     "execution_count": 27,
     "metadata": {},
     "output_type": "execute_result"
    }
   ],
   "source": [
    "df3.head()"
   ]
  },
  {
   "cell_type": "code",
   "execution_count": null,
   "metadata": {},
   "outputs": [],
   "source": []
  },
  {
   "cell_type": "code",
   "execution_count": 39,
   "metadata": {
    "deletable": false,
    "editable": false,
    "nbgrader": {
     "cell_type": "code",
     "checksum": "40669c90bcd7519b28ac3e9e27f543ae",
     "grade": true,
     "grade_id": "cell-0fec665f26a5c8e1",
     "locked": true,
     "points": 3,
     "schema_version": 3,
     "solution": false,
     "task": false
    }
   },
   "outputs": [],
   "source": [
    "# This cell is reserved for the unit tests. Do not consider this cell. "
   ]
  },
  {
   "cell_type": "markdown",
   "metadata": {
    "deletable": false,
    "editable": false,
    "nbgrader": {
     "cell_type": "markdown",
     "checksum": "a3a4fd10fea6216049ce8268595a2b7c",
     "grade": false,
     "grade_id": "cell-1e0cd88472885d35",
     "locked": true,
     "schema_version": 3,
     "solution": false,
     "task": false
    }
   },
   "source": [
    "## Question 1.6 (3 marks)\n",
    "\n",
    "Make a function `make_correlation_matrix_from(df, cols)` to output a numpy array containing the correlation matrix relative to the data in the input data frame `df`. The data is extracted from the columns with labels in `cols`.\n",
    "\n",
    "For example if you have the following data frame `df`:\n",
    "\n",
    "```\n",
    "  Col1 Col2  Col3\n",
    "0    5    1     1\n",
    "1    4    2     3\n",
    "2    3    4     5\n",
    "3    5    2     6\n",
    "4    2    3     2\n",
    "```\n",
    "\n",
    "`C = make_correlation_matrix_from(df, ['Col2', 'Col3'])` will return the correlation matrix `C` of the data matrix:\n",
    "\n",
    "```\n",
    "1     1\n",
    "2     3\n",
    "4     5\n",
    "2     6\n",
    "3     2\n",
    "```\n",
    "\n",
    "Provide your own implementation of the correlation. Do **not** use functions from the numpy library or any other library to compute directly the correlation matrix."
   ]
  },
  {
   "cell_type": "code",
   "execution_count": 40,
   "metadata": {
    "deletable": false,
    "nbgrader": {
     "cell_type": "code",
     "checksum": "07d0f0c2efe85b05881ceef8cf0b8d52",
     "grade": false,
     "grade_id": "cell-5b15cbae29df7e37",
     "locked": false,
     "schema_version": 3,
     "solution": true,
     "task": false
    }
   },
   "outputs": [],
   "source": [
    "def make_correlation_matrix_from(df, cols):\n",
    "    # YOUR CODE HERE\n",
    "    raise NotImplementedError()"
   ]
  },
  {
   "cell_type": "code",
   "execution_count": 28,
   "metadata": {},
   "outputs": [],
   "source": [
    "def make_correlation_matrix_from(df, cols):\n",
    "    return df[cols].corr(method ='pearson').round(2)"
   ]
  },
  {
   "cell_type": "code",
   "execution_count": 29,
   "metadata": {},
   "outputs": [],
   "source": [
    "corr =  make_correlation_matrix_from(df3, cols=['Imaginary_Part_Min','Imaginary_Part_Avg','Real_Part_Min', 'Real_Part_Avg','Gender','Age','Smoking'])"
   ]
  },
  {
   "cell_type": "code",
   "execution_count": 30,
   "metadata": {},
   "outputs": [
    {
     "data": {
      "text/html": [
       "<div>\n",
       "<style scoped>\n",
       "    .dataframe tbody tr th:only-of-type {\n",
       "        vertical-align: middle;\n",
       "    }\n",
       "\n",
       "    .dataframe tbody tr th {\n",
       "        vertical-align: top;\n",
       "    }\n",
       "\n",
       "    .dataframe thead th {\n",
       "        text-align: right;\n",
       "    }\n",
       "</style>\n",
       "<table border=\"1\" class=\"dataframe\">\n",
       "  <thead>\n",
       "    <tr style=\"text-align: right;\">\n",
       "      <th></th>\n",
       "      <th>Imaginary_Part_Min</th>\n",
       "      <th>Imaginary_Part_Avg</th>\n",
       "      <th>Real_Part_Min</th>\n",
       "      <th>Real_Part_Avg</th>\n",
       "      <th>Gender</th>\n",
       "      <th>Age</th>\n",
       "      <th>Smoking</th>\n",
       "    </tr>\n",
       "  </thead>\n",
       "  <tbody>\n",
       "    <tr>\n",
       "      <th>Imaginary_Part_Min</th>\n",
       "      <td>1.00</td>\n",
       "      <td>0.98</td>\n",
       "      <td>0.43</td>\n",
       "      <td>0.38</td>\n",
       "      <td>-0.04</td>\n",
       "      <td>0.11</td>\n",
       "      <td>-0.28</td>\n",
       "    </tr>\n",
       "    <tr>\n",
       "      <th>Imaginary_Part_Avg</th>\n",
       "      <td>0.98</td>\n",
       "      <td>1.00</td>\n",
       "      <td>0.38</td>\n",
       "      <td>0.38</td>\n",
       "      <td>-0.05</td>\n",
       "      <td>0.14</td>\n",
       "      <td>-0.29</td>\n",
       "    </tr>\n",
       "    <tr>\n",
       "      <th>Real_Part_Min</th>\n",
       "      <td>0.43</td>\n",
       "      <td>0.38</td>\n",
       "      <td>1.00</td>\n",
       "      <td>0.90</td>\n",
       "      <td>-0.13</td>\n",
       "      <td>-0.08</td>\n",
       "      <td>0.08</td>\n",
       "    </tr>\n",
       "    <tr>\n",
       "      <th>Real_Part_Avg</th>\n",
       "      <td>0.38</td>\n",
       "      <td>0.38</td>\n",
       "      <td>0.90</td>\n",
       "      <td>1.00</td>\n",
       "      <td>-0.12</td>\n",
       "      <td>-0.01</td>\n",
       "      <td>0.08</td>\n",
       "    </tr>\n",
       "    <tr>\n",
       "      <th>Gender</th>\n",
       "      <td>-0.04</td>\n",
       "      <td>-0.05</td>\n",
       "      <td>-0.13</td>\n",
       "      <td>-0.12</td>\n",
       "      <td>1.00</td>\n",
       "      <td>0.23</td>\n",
       "      <td>0.07</td>\n",
       "    </tr>\n",
       "    <tr>\n",
       "      <th>Age</th>\n",
       "      <td>0.11</td>\n",
       "      <td>0.14</td>\n",
       "      <td>-0.08</td>\n",
       "      <td>-0.01</td>\n",
       "      <td>0.23</td>\n",
       "      <td>1.00</td>\n",
       "      <td>0.14</td>\n",
       "    </tr>\n",
       "    <tr>\n",
       "      <th>Smoking</th>\n",
       "      <td>-0.28</td>\n",
       "      <td>-0.29</td>\n",
       "      <td>0.08</td>\n",
       "      <td>0.08</td>\n",
       "      <td>0.07</td>\n",
       "      <td>0.14</td>\n",
       "      <td>1.00</td>\n",
       "    </tr>\n",
       "  </tbody>\n",
       "</table>\n",
       "</div>"
      ],
      "text/plain": [
       "                    Imaginary_Part_Min  Imaginary_Part_Avg  Real_Part_Min  \\\n",
       "Imaginary_Part_Min                1.00                0.98           0.43   \n",
       "Imaginary_Part_Avg                0.98                1.00           0.38   \n",
       "Real_Part_Min                     0.43                0.38           1.00   \n",
       "Real_Part_Avg                     0.38                0.38           0.90   \n",
       "Gender                           -0.04               -0.05          -0.13   \n",
       "Age                               0.11                0.14          -0.08   \n",
       "Smoking                          -0.28               -0.29           0.08   \n",
       "\n",
       "                    Real_Part_Avg  Gender   Age  Smoking  \n",
       "Imaginary_Part_Min           0.38   -0.04  0.11    -0.28  \n",
       "Imaginary_Part_Avg           0.38   -0.05  0.14    -0.29  \n",
       "Real_Part_Min                0.90   -0.13 -0.08     0.08  \n",
       "Real_Part_Avg                1.00   -0.12 -0.01     0.08  \n",
       "Gender                      -0.12    1.00  0.23     0.07  \n",
       "Age                         -0.01    0.23  1.00     0.14  \n",
       "Smoking                      0.08    0.07  0.14     1.00  "
      ]
     },
     "execution_count": 30,
     "metadata": {},
     "output_type": "execute_result"
    }
   ],
   "source": [
    "corr"
   ]
  },
  {
   "cell_type": "code",
   "execution_count": null,
   "metadata": {},
   "outputs": [],
   "source": []
  },
  {
   "cell_type": "code",
   "execution_count": null,
   "metadata": {},
   "outputs": [],
   "source": []
  },
  {
   "cell_type": "code",
   "execution_count": null,
   "metadata": {},
   "outputs": [],
   "source": []
  },
  {
   "cell_type": "code",
   "execution_count": null,
   "metadata": {},
   "outputs": [],
   "source": []
  },
  {
   "cell_type": "code",
   "execution_count": 44,
   "metadata": {
    "deletable": false,
    "editable": false,
    "nbgrader": {
     "cell_type": "code",
     "checksum": "b8e3cd0ce0f8aa465394aa74d7a605c3",
     "grade": true,
     "grade_id": "cell-425ece82337d3933",
     "locked": true,
     "points": 3,
     "schema_version": 3,
     "solution": false,
     "task": false
    }
   },
   "outputs": [],
   "source": [
    "# This cell is reserved for the unit tests. Do not consider this cell. "
   ]
  },
  {
   "cell_type": "markdown",
   "metadata": {
    "deletable": false,
    "editable": false,
    "nbgrader": {
     "cell_type": "markdown",
     "checksum": "e91eeadd04264573aeea5179a8aa6778",
     "grade": false,
     "grade_id": "cell-e4e297803a84261a",
     "locked": true,
     "schema_version": 3,
     "solution": false,
     "task": false
    }
   },
   "source": [
    "## Question 1.7 (2+3 mark)\n",
    "\n",
    "Make a function `plot_corr(corr, labels)` to plot a correlation matrix `corr` (with variable names given as a list of strings in `labels`) (2 marks).\n",
    "\n",
    "\n",
    "When you execute the following sequence of tranformations\n",
    "```python\n",
    "df = load_exasens_data_set()\n",
    "df = add_binned_column(df, col_name='Age', limits=[30,50,60])\n",
    "df = add_class(df, col_name='Diagnosis')\n",
    "df = replace_missing_with_conditional_mean(df, condition_cols=['Smoking','Gender','Age_bin'], cols=['Imaginary_Part_Min','Imaginary_Part_Avg','Real_Part_Min', 'Real_Part_Avg'])\n",
    "df = standardize(df, cols=['Imaginary_Part_Min','Imaginary_Part_Avg','Real_Part_Min', 'Real_Part_Avg','Gender','Age','Smoking'])\n",
    "corr =  make_correlation_matrix_from(df, cols=['Imaginary_Part_Min','Imaginary_Part_Avg','Real_Part_Min', 'Real_Part_Avg','Gender','Age','Smoking'])\n",
    "plot_corr(corr, labels=['Imaginary_Part_Min','Imaginary_Part_Avg','Real_Part_Min', 'Real_Part_Avg','Gender','Age','Smoking'])\n",
    "```\n",
    "you should obtain (3 marks):\n",
    "<img src='corr.png' width=\"500\">"
   ]
  },
  {
   "cell_type": "code",
   "execution_count": 45,
   "metadata": {
    "deletable": false,
    "nbgrader": {
     "cell_type": "code",
     "checksum": "142478d8a3401739c627d1722ad8dabb",
     "grade": false,
     "grade_id": "cell-3f3d83df3e6c9f8c",
     "locked": false,
     "schema_version": 3,
     "solution": true,
     "task": false
    }
   },
   "outputs": [],
   "source": [
    "def plot_corr(C, labels):\n",
    "    # YOUR CODE HERE\n",
    "    raise NotImplementedError()"
   ]
  },
  {
   "cell_type": "code",
   "execution_count": 31,
   "metadata": {},
   "outputs": [],
   "source": [
    "def plot_corr(C, labels):\n",
    "    import seaborn as sns\n",
    "    plt.figure(figsize=(10,8))\n",
    "    sns.heatmap(corr, annot=True, xticklabels=labels, yticklabels=labels, cmap=\"Blues\", cbar=False)\n",
    "    plt.show()\n",
    "    "
   ]
  },
  {
   "cell_type": "code",
   "execution_count": 32,
   "metadata": {},
   "outputs": [
    {
     "data": {
      "image/png": "[encoded data removed]",
      "text/plain": [
       "<Figure size 720x576 with 1 Axes>"
      ]
     },
     "metadata": {
      "needs_background": "light"
     },
     "output_type": "display_data"
    }
   ],
   "source": [
    "plot_corr(corr, labels=['Imaginary_Part_Min','Imaginary_Part_Avg','Real_Part_Min', 'Real_Part_Avg','Gender','Age','Smoking'])"
   ]
  },
  {
   "cell_type": "code",
   "execution_count": 48,
   "metadata": {},
   "outputs": [
    {
     "data": {
      "text/html": [
       "<style type=\"text/css\">\n",
       "#T_a2587_row0_col0, #T_a2587_row1_col1, #T_a2587_row2_col2, #T_a2587_row3_col3, #T_a2587_row4_col4, #T_a2587_row5_col5, #T_a2587_row6_col6 {\n",
       "  background-color: #08306b;\n",
       "  color: #f1f1f1;\n",
       "}\n",
       "#T_a2587_row0_col1, #T_a2587_row1_col0 {\n",
       "  background-color: #083370;\n",
       "  color: #f1f1f1;\n",
       "}\n",
       "#T_a2587_row0_col2 {\n",
       "  background-color: #6dafd7;\n",
       "  color: #f1f1f1;\n",
       "}\n",
       "#T_a2587_row0_col3, #T_a2587_row1_col3 {\n",
       "  background-color: #81badb;\n",
       "  color: #000000;\n",
       "}\n",
       "#T_a2587_row0_col4 {\n",
       "  background-color: #e7f1fa;\n",
       "  color: #000000;\n",
       "}\n",
       "#T_a2587_row0_col5, #T_a2587_row6_col3, #T_a2587_row6_col4 {\n",
       "  background-color: #d4e4f4;\n",
       "  color: #000000;\n",
       "}\n",
       "#T_a2587_row0_col6 {\n",
       "  background-color: #f6faff;\n",
       "  color: #000000;\n",
       "}\n",
       "#T_a2587_row1_col2 {\n",
       "  background-color: #7fb9da;\n",
       "  color: #000000;\n",
       "}\n",
       "#T_a2587_row1_col4 {\n",
       "  background-color: #e9f2fa;\n",
       "  color: #000000;\n",
       "}\n",
       "#T_a2587_row1_col5, #T_a2587_row6_col5 {\n",
       "  background-color: #cfe1f2;\n",
       "  color: #000000;\n",
       "}\n",
       "#T_a2587_row1_col6, #T_a2587_row2_col4, #T_a2587_row2_col5, #T_a2587_row4_col2, #T_a2587_row4_col3, #T_a2587_row6_col0, #T_a2587_row6_col1 {\n",
       "  background-color: #f7fbff;\n",
       "  color: #000000;\n",
       "}\n",
       "#T_a2587_row2_col0 {\n",
       "  background-color: #58a1cf;\n",
       "  color: #f1f1f1;\n",
       "}\n",
       "#T_a2587_row2_col1, #T_a2587_row3_col0, #T_a2587_row3_col1 {\n",
       "  background-color: #65aad4;\n",
       "  color: #f1f1f1;\n",
       "}\n",
       "#T_a2587_row2_col3, #T_a2587_row3_col2 {\n",
       "  background-color: #08478d;\n",
       "  color: #f1f1f1;\n",
       "}\n",
       "#T_a2587_row2_col6, #T_a2587_row3_col6, #T_a2587_row4_col5 {\n",
       "  background-color: #bad6eb;\n",
       "  color: #000000;\n",
       "}\n",
       "#T_a2587_row3_col4 {\n",
       "  background-color: #f5fafe;\n",
       "  color: #000000;\n",
       "}\n",
       "#T_a2587_row3_col5 {\n",
       "  background-color: #eaf3fb;\n",
       "  color: #000000;\n",
       "}\n",
       "#T_a2587_row4_col0 {\n",
       "  background-color: #d2e3f3;\n",
       "  color: #000000;\n",
       "}\n",
       "#T_a2587_row4_col1, #T_a2587_row6_col2 {\n",
       "  background-color: #d3e3f3;\n",
       "  color: #000000;\n",
       "}\n",
       "#T_a2587_row4_col6 {\n",
       "  background-color: #bdd7ec;\n",
       "  color: #000000;\n",
       "}\n",
       "#T_a2587_row5_col0 {\n",
       "  background-color: #b4d3e9;\n",
       "  color: #000000;\n",
       "}\n",
       "#T_a2587_row5_col1, #T_a2587_row5_col6 {\n",
       "  background-color: #abd0e6;\n",
       "  color: #000000;\n",
       "}\n",
       "#T_a2587_row5_col2 {\n",
       "  background-color: #eef5fc;\n",
       "  color: #000000;\n",
       "}\n",
       "#T_a2587_row5_col3 {\n",
       "  background-color: #e3eef9;\n",
       "  color: #000000;\n",
       "}\n",
       "#T_a2587_row5_col4 {\n",
       "  background-color: #b0d2e7;\n",
       "  color: #000000;\n",
       "}\n",
       "</style>\n",
       "<table id=\"T_a2587\">\n",
       "  <thead>\n",
       "    <tr>\n",
       "      <th class=\"blank level0\" >&nbsp;</th>\n",
       "      <th id=\"T_a2587_level0_col0\" class=\"col_heading level0 col0\" >Imaginary_Part_Min</th>\n",
       "      <th id=\"T_a2587_level0_col1\" class=\"col_heading level0 col1\" >Imaginary_Part_Avg</th>\n",
       "      <th id=\"T_a2587_level0_col2\" class=\"col_heading level0 col2\" >Real_Part_Min</th>\n",
       "      <th id=\"T_a2587_level0_col3\" class=\"col_heading level0 col3\" >Real_Part_Avg</th>\n",
       "      <th id=\"T_a2587_level0_col4\" class=\"col_heading level0 col4\" >Gender</th>\n",
       "      <th id=\"T_a2587_level0_col5\" class=\"col_heading level0 col5\" >Age</th>\n",
       "      <th id=\"T_a2587_level0_col6\" class=\"col_heading level0 col6\" >Smoking</th>\n",
       "    </tr>\n",
       "  </thead>\n",
       "  <tbody>\n",
       "    <tr>\n",
       "      <th id=\"T_a2587_level0_row0\" class=\"row_heading level0 row0\" >Imaginary_Part_Min</th>\n",
       "      <td id=\"T_a2587_row0_col0\" class=\"data row0 col0\" >1.000000</td>\n",
       "      <td id=\"T_a2587_row0_col1\" class=\"data row0 col1\" >0.980000</td>\n",
       "      <td id=\"T_a2587_row0_col2\" class=\"data row0 col2\" >0.430000</td>\n",
       "      <td id=\"T_a2587_row0_col3\" class=\"data row0 col3\" >0.380000</td>\n",
       "      <td id=\"T_a2587_row0_col4\" class=\"data row0 col4\" >-0.040000</td>\n",
       "      <td id=\"T_a2587_row0_col5\" class=\"data row0 col5\" >0.110000</td>\n",
       "      <td id=\"T_a2587_row0_col6\" class=\"data row0 col6\" >-0.280000</td>\n",
       "    </tr>\n",
       "    <tr>\n",
       "      <th id=\"T_a2587_level0_row1\" class=\"row_heading level0 row1\" >Imaginary_Part_Avg</th>\n",
       "      <td id=\"T_a2587_row1_col0\" class=\"data row1 col0\" >0.980000</td>\n",
       "      <td id=\"T_a2587_row1_col1\" class=\"data row1 col1\" >1.000000</td>\n",
       "      <td id=\"T_a2587_row1_col2\" class=\"data row1 col2\" >0.380000</td>\n",
       "      <td id=\"T_a2587_row1_col3\" class=\"data row1 col3\" >0.380000</td>\n",
       "      <td id=\"T_a2587_row1_col4\" class=\"data row1 col4\" >-0.050000</td>\n",
       "      <td id=\"T_a2587_row1_col5\" class=\"data row1 col5\" >0.140000</td>\n",
       "      <td id=\"T_a2587_row1_col6\" class=\"data row1 col6\" >-0.290000</td>\n",
       "    </tr>\n",
       "    <tr>\n",
       "      <th id=\"T_a2587_level0_row2\" class=\"row_heading level0 row2\" >Real_Part_Min</th>\n",
       "      <td id=\"T_a2587_row2_col0\" class=\"data row2 col0\" >0.430000</td>\n",
       "      <td id=\"T_a2587_row2_col1\" class=\"data row2 col1\" >0.380000</td>\n",
       "      <td id=\"T_a2587_row2_col2\" class=\"data row2 col2\" >1.000000</td>\n",
       "      <td id=\"T_a2587_row2_col3\" class=\"data row2 col3\" >0.900000</td>\n",
       "      <td id=\"T_a2587_row2_col4\" class=\"data row2 col4\" >-0.130000</td>\n",
       "      <td id=\"T_a2587_row2_col5\" class=\"data row2 col5\" >-0.080000</td>\n",
       "      <td id=\"T_a2587_row2_col6\" class=\"data row2 col6\" >0.080000</td>\n",
       "    </tr>\n",
       "    <tr>\n",
       "      <th id=\"T_a2587_level0_row3\" class=\"row_heading level0 row3\" >Real_Part_Avg</th>\n",
       "      <td id=\"T_a2587_row3_col0\" class=\"data row3 col0\" >0.380000</td>\n",
       "      <td id=\"T_a2587_row3_col1\" class=\"data row3 col1\" >0.380000</td>\n",
       "      <td id=\"T_a2587_row3_col2\" class=\"data row3 col2\" >0.900000</td>\n",
       "      <td id=\"T_a2587_row3_col3\" class=\"data row3 col3\" >1.000000</td>\n",
       "      <td id=\"T_a2587_row3_col4\" class=\"data row3 col4\" >-0.120000</td>\n",
       "      <td id=\"T_a2587_row3_col5\" class=\"data row3 col5\" >-0.010000</td>\n",
       "      <td id=\"T_a2587_row3_col6\" class=\"data row3 col6\" >0.080000</td>\n",
       "    </tr>\n",
       "    <tr>\n",
       "      <th id=\"T_a2587_level0_row4\" class=\"row_heading level0 row4\" >Gender</th>\n",
       "      <td id=\"T_a2587_row4_col0\" class=\"data row4 col0\" >-0.040000</td>\n",
       "      <td id=\"T_a2587_row4_col1\" class=\"data row4 col1\" >-0.050000</td>\n",
       "      <td id=\"T_a2587_row4_col2\" class=\"data row4 col2\" >-0.130000</td>\n",
       "      <td id=\"T_a2587_row4_col3\" class=\"data row4 col3\" >-0.120000</td>\n",
       "      <td id=\"T_a2587_row4_col4\" class=\"data row4 col4\" >1.000000</td>\n",
       "      <td id=\"T_a2587_row4_col5\" class=\"data row4 col5\" >0.230000</td>\n",
       "      <td id=\"T_a2587_row4_col6\" class=\"data row4 col6\" >0.070000</td>\n",
       "    </tr>\n",
       "    <tr>\n",
       "      <th id=\"T_a2587_level0_row5\" class=\"row_heading level0 row5\" >Age</th>\n",
       "      <td id=\"T_a2587_row5_col0\" class=\"data row5 col0\" >0.110000</td>\n",
       "      <td id=\"T_a2587_row5_col1\" class=\"data row5 col1\" >0.140000</td>\n",
       "      <td id=\"T_a2587_row5_col2\" class=\"data row5 col2\" >-0.080000</td>\n",
       "      <td id=\"T_a2587_row5_col3\" class=\"data row5 col3\" >-0.010000</td>\n",
       "      <td id=\"T_a2587_row5_col4\" class=\"data row5 col4\" >0.230000</td>\n",
       "      <td id=\"T_a2587_row5_col5\" class=\"data row5 col5\" >1.000000</td>\n",
       "      <td id=\"T_a2587_row5_col6\" class=\"data row5 col6\" >0.140000</td>\n",
       "    </tr>\n",
       "    <tr>\n",
       "      <th id=\"T_a2587_level0_row6\" class=\"row_heading level0 row6\" >Smoking</th>\n",
       "      <td id=\"T_a2587_row6_col0\" class=\"data row6 col0\" >-0.280000</td>\n",
       "      <td id=\"T_a2587_row6_col1\" class=\"data row6 col1\" >-0.290000</td>\n",
       "      <td id=\"T_a2587_row6_col2\" class=\"data row6 col2\" >0.080000</td>\n",
       "      <td id=\"T_a2587_row6_col3\" class=\"data row6 col3\" >0.080000</td>\n",
       "      <td id=\"T_a2587_row6_col4\" class=\"data row6 col4\" >0.070000</td>\n",
       "      <td id=\"T_a2587_row6_col5\" class=\"data row6 col5\" >0.140000</td>\n",
       "      <td id=\"T_a2587_row6_col6\" class=\"data row6 col6\" >1.000000</td>\n",
       "    </tr>\n",
       "  </tbody>\n",
       "</table>\n"
      ],
      "text/plain": [
       "<pandas.io.formats.style.Styler at 0x7fc3e0de8190>"
      ]
     },
     "execution_count": 48,
     "metadata": {},
     "output_type": "execute_result"
    }
   ],
   "source": [
    "corr.style.background_gradient(cmap='Blues')"
   ]
  },
  {
   "cell_type": "code",
   "execution_count": null,
   "metadata": {},
   "outputs": [],
   "source": []
  },
  {
   "cell_type": "code",
   "execution_count": null,
   "metadata": {},
   "outputs": [],
   "source": []
  },
  {
   "cell_type": "code",
   "execution_count": null,
   "metadata": {},
   "outputs": [],
   "source": []
  },
  {
   "cell_type": "code",
   "execution_count": 50,
   "metadata": {
    "deletable": false,
    "editable": false,
    "nbgrader": {
     "cell_type": "code",
     "checksum": "ea1c2ba062d9288d3c1e42ca3c50d8ac",
     "grade": true,
     "grade_id": "cell-0ce17d2e779f3a5c",
     "locked": true,
     "points": 2,
     "schema_version": 3,
     "solution": false,
     "task": false
    }
   },
   "outputs": [],
   "source": [
    "# This cell is reserved for the unit tests. Do not consider this cell. "
   ]
  },
  {
   "cell_type": "code",
   "execution_count": 51,
   "metadata": {
    "deletable": false,
    "editable": false,
    "nbgrader": {
     "cell_type": "code",
     "checksum": "a1091e03d8e6efb4296c0e3552dba5e9",
     "grade": true,
     "grade_id": "cell-71b420708c3894c9",
     "locked": true,
     "points": 3,
     "schema_version": 3,
     "solution": false,
     "task": false
    }
   },
   "outputs": [],
   "source": [
    "# This cell is reserved for the unit tests. Do not consider this cell. "
   ]
  },
  {
   "cell_type": "code",
   "execution_count": 48,
   "metadata": {
    "deletable": false,
    "editable": false,
    "nbgrader": {
     "cell_type": "code",
     "checksum": "ff9444932e9475b4c109128cb2b12370",
     "grade": false,
     "grade_id": "cell-077592cf76fce55a",
     "locked": true,
     "schema_version": 3,
     "solution": false,
     "task": false
    }
   },
   "outputs": [
    {
     "data": {
      "image/png": "[encoded data removed]",
      "text/plain": [
       "<Figure size 720x576 with 1 Axes>"
      ]
     },
     "metadata": {
      "needs_background": "light"
     },
     "output_type": "display_data"
    }
   ],
   "source": [
    "# Just run the following code, do not modify it\n",
    "\n",
    "df = load_exasens_data_set()\n",
    "df = add_binned_column(df, col_name='Age', limits=[30,50,60])\n",
    "df = add_class(df, col_name='Diagnosis')\n",
    "df = replace_missing_with_conditional_mean(df, condition_cols=['Smoking','Gender','Age_bin'], cols=['Imaginary_Part_Min','Imaginary_Part_Avg','Real_Part_Min', 'Real_Part_Avg'])\n",
    "df = standardize(df, cols=['Imaginary_Part_Min','Imaginary_Part_Avg','Real_Part_Min', 'Real_Part_Avg','Gender','Age','Smoking'])\n",
    "corr =  make_correlation_matrix_from(df, cols=['Imaginary_Part_Min','Imaginary_Part_Avg','Real_Part_Min', 'Real_Part_Avg','Gender','Age','Smoking'])\n",
    "plot_corr(corr, labels=['Imaginary_Part_Min','Imaginary_Part_Avg','Real_Part_Min', 'Real_Part_Avg','Gender','Age','Smoking'])"
   ]
  },
  {
   "cell_type": "markdown",
   "metadata": {
    "deletable": false,
    "editable": false,
    "nbgrader": {
     "cell_type": "markdown",
     "checksum": "7742c493a2888229dc6a7195bbad79f2",
     "grade": false,
     "grade_id": "cell-1fa8c80e4aac3bff",
     "locked": true,
     "schema_version": 3,
     "solution": false,
     "task": false
    }
   },
   "source": [
    "# Part 2 (40 marks)\n",
    "\n",
    "**Aim:** Show an understanding of the main concepts in linear algebra such as PCA and SVD.\n",
    "\n",
    "\n",
    "In this exercise data matrices are considered row-wise, that is a data matrix for `m` instances is a `m x n` matrix consisting of `m` vectors in `n` dimensions."
   ]
  },
  {
   "cell_type": "markdown",
   "metadata": {
    "deletable": false,
    "editable": false,
    "nbgrader": {
     "cell_type": "markdown",
     "checksum": "63442b6625472392617358a7a31f9b34",
     "grade": false,
     "grade_id": "cell-0ebf619a39826b05",
     "locked": true,
     "schema_version": 3,
     "solution": false,
     "task": false
    }
   },
   "source": [
    "## Question 2.1 (3 marks)\n",
    "\n",
    "Write the function `mu, cov = get_mean_cov(X)` that takes a `m x n` data matrix `X` in input and returns the mean vector `mu` as a one dimensional numpy vector of size `n` and the covariance matrix `cov` as a numpy matrix object of size `n x n`.\n",
    "\n",
    "Provide your own implementation of the covariance. Do **not** use functions from the numpy library or any other library to compute directly the covariance matrix."
   ]
  },
  {
   "cell_type": "code",
   "execution_count": 53,
   "metadata": {
    "deletable": false,
    "nbgrader": {
     "cell_type": "code",
     "checksum": "512766f084be98d8e4bbd803a682757c",
     "grade": false,
     "grade_id": "cell-f0d5e9234a1f2194",
     "locked": false,
     "schema_version": 3,
     "solution": true,
     "task": false
    }
   },
   "outputs": [],
   "source": [
    "def get_mean_cov(X):\n",
    "    # YOUR CODE HERE\n",
    "    raise NotImplementedError()"
   ]
  },
  {
   "cell_type": "code",
   "execution_count": null,
   "metadata": {},
   "outputs": [],
   "source": []
  },
  {
   "cell_type": "code",
   "execution_count": null,
   "metadata": {},
   "outputs": [],
   "source": []
  },
  {
   "cell_type": "code",
   "execution_count": 55,
   "metadata": {},
   "outputs": [],
   "source": [
    "def get_mean_cov(X):\n",
    "    mean_by_column = np.mean(X.T, axis=1)\n",
    "    scaled_data = X - mean_by_column\n",
    "    cov_mat = np.cov(scaled_data)\n",
    "    return mean_by_column, cov_mat"
   ]
  },
  {
   "cell_type": "code",
   "execution_count": 56,
   "metadata": {},
   "outputs": [],
   "source": [
    "def plot(M,y=None):\n",
    "    assert(M.shape[1]==2)\n",
    "    x1,x2 = M.A.T\n",
    "    plt.figure(figsize=(7,7))\n",
    "    plt.axvline(x=0, c='r', lw=.5)\n",
    "    plt.axhline(y=0, c='r', lw=.5)\n",
    "    plt.scatter(x1,x2, c=y, alpha=.6, linewidths=0.5, edgecolors='w', cmap='brg')\n",
    "    plt.grid(which='major', color='grey', linestyle=':')\n",
    "    plt.minorticks_on()\n",
    "    plt.grid(which='minor', color='grey', alpha=.3,  linestyle=':', lw=.5)\n",
    "    plt.show()"
   ]
  },
  {
   "cell_type": "code",
   "execution_count": null,
   "metadata": {},
   "outputs": [],
   "source": []
  },
  {
   "cell_type": "code",
   "execution_count": 36,
   "metadata": {},
   "outputs": [],
   "source": [
    "X = np.mat(df[cols].values)"
   ]
  },
  {
   "cell_type": "code",
   "execution_count": 42,
   "metadata": {},
   "outputs": [
    {
     "data": {
      "text/plain": [
       "(399, 7)"
      ]
     },
     "execution_count": 42,
     "metadata": {},
     "output_type": "execute_result"
    }
   ],
   "source": [
    "X.shape"
   ]
  },
  {
   "cell_type": "code",
   "execution_count": null,
   "metadata": {},
   "outputs": [],
   "source": [
    "#color = D[:,2].A.reshape(-1) # use age for color with the scale: blue -> red -> green\n",
    "#plot(D[:,(0,1)],color)"
   ]
  },
  {
   "cell_type": "code",
   "execution_count": null,
   "metadata": {},
   "outputs": [],
   "source": [
    "color = X[:,2].A.reshape(-1)\n",
    "plot(X[:,(0,1)], color)"
   ]
  },
  {
   "cell_type": "code",
   "execution_count": null,
   "metadata": {},
   "outputs": [],
   "source": [
    "def get_mean_cov(X):\n",
    "    mean_by_column = np.mean(X.T, axis=1)\n",
    "    scaled_data = X - mean_by_column\n",
    "    cov_mat = np.cov(scaled_data)\n",
    "    return mean_by_column, cov_mat"
   ]
  },
  {
   "cell_type": "code",
   "execution_count": null,
   "metadata": {},
   "outputs": [],
   "source": [
    "#center\n",
    "D2=X-np.mean(X,axis=0)\n",
    "print(D2.T*D2/(D2.shape[0]-1))"
   ]
  },
  {
   "cell_type": "code",
   "execution_count": null,
   "metadata": {},
   "outputs": [],
   "source": []
  },
  {
   "cell_type": "code",
   "execution_count": null,
   "metadata": {},
   "outputs": [],
   "source": [
    "def get_mean_cov(X):\n",
    "    mean_vec= X-np.mean(X,axis=0)\n",
    "    cov_vec=(mean_vec.T*mean_vec/(mean_vec.shape[0]-1))\n",
    "    return np.ravel(mean_vec), cov_vec"
   ]
  },
  {
   "cell_type": "code",
   "execution_count": 49,
   "metadata": {},
   "outputs": [],
   "source": [
    "def get_mean_cov(X):\n",
    "    mu = np.mean(X, axis=0) # average cols\n",
    "    Xc = np.mat(X - mu.reshape(1,-1)) \n",
    "    cov = Xc.T*Xc/(Xc.shape[0]-1)\n",
    "    return mu, cov"
   ]
  },
  {
   "cell_type": "code",
   "execution_count": 50,
   "metadata": {},
   "outputs": [],
   "source": [
    "mu, cov = get_mean_cov(X)"
   ]
  },
  {
   "cell_type": "code",
   "execution_count": 51,
   "metadata": {},
   "outputs": [
    {
     "data": {
      "text/plain": [
       "numpy.matrix"
      ]
     },
     "execution_count": 51,
     "metadata": {},
     "output_type": "execute_result"
    }
   ],
   "source": [
    "type(mu)"
   ]
  },
  {
   "cell_type": "code",
   "execution_count": 52,
   "metadata": {},
   "outputs": [
    {
     "data": {
      "text/plain": [
       "numpy.matrix"
      ]
     },
     "execution_count": 52,
     "metadata": {},
     "output_type": "execute_result"
    }
   ],
   "source": [
    "type(cov)"
   ]
  },
  {
   "cell_type": "code",
   "execution_count": 53,
   "metadata": {},
   "outputs": [
    {
     "data": {
      "text/plain": [
       "matrix([[        nan,         nan,         nan,         nan,  0.39849624,\n",
       "         48.73684211,  1.72681704]])"
      ]
     },
     "execution_count": 53,
     "metadata": {},
     "output_type": "execute_result"
    }
   ],
   "source": [
    "mu"
   ]
  },
  {
   "cell_type": "code",
   "execution_count": 54,
   "metadata": {},
   "outputs": [
    {
     "data": {
      "text/plain": [
       "matrix([[           nan,            nan,            nan,            nan,\n",
       "                    nan,            nan,            nan],\n",
       "        [           nan,            nan,            nan,            nan,\n",
       "                    nan,            nan,            nan],\n",
       "        [           nan,            nan,            nan,            nan,\n",
       "                    nan,            nan,            nan],\n",
       "        [           nan,            nan,            nan,            nan,\n",
       "                    nan,            nan,            nan],\n",
       "        [           nan,            nan,            nan,            nan,\n",
       "         2.40299241e-01, 2.09759323e+00, 2.62213322e-02],\n",
       "        [           nan,            nan,            nan,            nan,\n",
       "         2.09759323e+00, 3.44732081e+02, 1.86511505e+00],\n",
       "        [           nan,            nan,            nan,            nan,\n",
       "         2.62213322e-02, 1.86511505e+00, 5.50811703e-01]])"
      ]
     },
     "execution_count": 54,
     "metadata": {},
     "output_type": "execute_result"
    }
   ],
   "source": [
    "cov"
   ]
  },
  {
   "cell_type": "code",
   "execution_count": null,
   "metadata": {},
   "outputs": [],
   "source": []
  },
  {
   "cell_type": "code",
   "execution_count": null,
   "metadata": {},
   "outputs": [],
   "source": []
  },
  {
   "cell_type": "code",
   "execution_count": null,
   "metadata": {},
   "outputs": [],
   "source": []
  },
  {
   "cell_type": "code",
   "execution_count": null,
   "metadata": {},
   "outputs": [],
   "source": []
  },
  {
   "cell_type": "code",
   "execution_count": null,
   "metadata": {},
   "outputs": [],
   "source": []
  },
  {
   "cell_type": "code",
   "execution_count": null,
   "metadata": {},
   "outputs": [],
   "source": []
  },
  {
   "cell_type": "code",
   "execution_count": null,
   "metadata": {},
   "outputs": [],
   "source": []
  },
  {
   "cell_type": "code",
   "execution_count": null,
   "metadata": {},
   "outputs": [],
   "source": []
  },
  {
   "cell_type": "code",
   "execution_count": null,
   "metadata": {},
   "outputs": [],
   "source": []
  },
  {
   "cell_type": "code",
   "execution_count": null,
   "metadata": {},
   "outputs": [],
   "source": []
  },
  {
   "cell_type": "code",
   "execution_count": null,
   "metadata": {},
   "outputs": [],
   "source": []
  },
  {
   "cell_type": "code",
   "execution_count": null,
   "metadata": {},
   "outputs": [],
   "source": []
  },
  {
   "cell_type": "code",
   "execution_count": null,
   "metadata": {},
   "outputs": [],
   "source": []
  },
  {
   "cell_type": "code",
   "execution_count": null,
   "metadata": {},
   "outputs": [],
   "source": []
  },
  {
   "cell_type": "code",
   "execution_count": null,
   "metadata": {},
   "outputs": [],
   "source": []
  },
  {
   "cell_type": "code",
   "execution_count": null,
   "metadata": {
    "deletable": false,
    "editable": false,
    "nbgrader": {
     "cell_type": "code",
     "checksum": "9b8e0ed307d99cc7034a0e2b83afec31",
     "grade": true,
     "grade_id": "cell-55994c0bfb59e060",
     "locked": true,
     "points": 3,
     "schema_version": 3,
     "solution": false,
     "task": false
    }
   },
   "outputs": [],
   "source": [
    "# This cell is reserved for the unit tests. Do not consider this cell. "
   ]
  },
  {
   "cell_type": "markdown",
   "metadata": {
    "deletable": false,
    "editable": false,
    "nbgrader": {
     "cell_type": "markdown",
     "checksum": "e46896e01f3e4cb184dc1f8a052e171b",
     "grade": false,
     "grade_id": "cell-35bf111dc6d886ae",
     "locked": true,
     "schema_version": 3,
     "solution": false,
     "task": false
    }
   },
   "source": [
    "## Question 2.2 (7 marks)\n",
    "\n",
    "Write your own code to perform the PCA dimensionality reduction (i.e. do not use functions provided by the `scikit` library, such as `sklearn.decomposition.PCA` or any other library that computes the PCA directly).\n",
    "\n",
    "Write a function `D = PCA(X, n_dim=2)` that takes in input a `m x n` data matrix consisting of `m` vectors in `n` dimensions and returns the **centred** projection of `X` on the `n_dim` principal components as a `m x n_dim` data matrix `D`."
   ]
  },
  {
   "cell_type": "code",
   "execution_count": null,
   "metadata": {
    "deletable": false,
    "nbgrader": {
     "cell_type": "code",
     "checksum": "f4c5ffd17812a5b443479863cdf6b649",
     "grade": false,
     "grade_id": "cell-99d1697bbf4639b8",
     "locked": false,
     "schema_version": 3,
     "solution": true,
     "task": false
    }
   },
   "outputs": [],
   "source": [
    "def PCA(X, n_dim=2):\n",
    "    # YOUR CODE HERE\n",
    "    raise NotImplementedError()"
   ]
  },
  {
   "cell_type": "code",
   "execution_count": null,
   "metadata": {},
   "outputs": [],
   "source": [
    "def PCA(X, n_dim=2):\n",
    "    from numpy.linalg import eig\n",
    "    X.replace(-np.inf, np.nan)\n",
    "    X.dropna(inplace=True)\n",
    "    mean_vec, cov_vec = get_mean_cov(X)\n",
    "    Eval, Evec = eig(cov_vec)\n",
    "    projected_data = Evec.T.dot(X)\n",
    "    return projected_data"
   ]
  },
  {
   "cell_type": "code",
   "execution_count": null,
   "metadata": {},
   "outputs": [],
   "source": [
    "def PCA(X, n_dim=2):\n",
    "    D2 = X-np.mean(X,axis=0)\n",
    "    D3 = (D2.T*D2)\n",
    "    U, s, Vt = np.linalg.svd(D3)\n",
    "    plot(-D2*Vt[:2].T,color)"
   ]
  },
  {
   "cell_type": "code",
   "execution_count": 56,
   "metadata": {},
   "outputs": [],
   "source": [
    "def plot(M,y):\n",
    "    assert(M.shape[1]==2)\n",
    "    x1,x2 = M.A.T\n",
    "    plt.figure(figsize=(7,7))\n",
    "    plt.axvline(x=0, c='r', lw=.5)\n",
    "    plt.axhline(y=0, c='r', lw=.5)\n",
    "    plt.scatter(x1,x2, c=y, alpha=.6, linewidths=0.5, edgecolors='w', cmap='brg')\n",
    "    plt.grid(which='major', color='grey', linestyle=':')\n",
    "    plt.minorticks_on()\n",
    "    plt.grid(which='minor', color='grey', alpha=.3,  linestyle=':', lw=.5)\n",
    "    plt.show()"
   ]
  },
  {
   "cell_type": "code",
   "execution_count": 55,
   "metadata": {},
   "outputs": [],
   "source": [
    "def PCA(X, n_dim=2):\n",
    "    X_meaned = X - np.mean(X , axis = 0)\n",
    "    cov_mat = np.cov(X_meaned , rowvar = False)\n",
    "    eigen_values , eigen_vectors = np.linalg.eigh(cov_mat)\n",
    "    \n",
    "    sorted_index = np.argsort(eigen_values)[::-1]\n",
    "    sorted_eigenvalue = eigen_values[sorted_index]\n",
    "    sorted_eigenvectors = eigen_vectors[:,sorted_index]\n",
    "    \n",
    "    eigenvector_subset = sorted_eigenvectors[:,0:n_dim]\n",
    "    X_reduced = np.dot(eigenvector_subset.transpose() , X_meaned.transpose() ).transpose()\n",
    "     \n",
    "    return X_reduced"
   ]
  },
  {
   "cell_type": "code",
   "execution_count": 57,
   "metadata": {},
   "outputs": [
    {
     "ename": "LinAlgError",
     "evalue": "Eigenvalues did not converge",
     "output_type": "error",
     "traceback": [
      "\u001b[0;31m---------------------------------------------------------------------------\u001b[0m",
      "\u001b[0;31mLinAlgError\u001b[0m                               Traceback (most recent call last)",
      "Input \u001b[0;32mIn [57]\u001b[0m, in \u001b[0;36m<cell line: 1>\u001b[0;34m()\u001b[0m\n\u001b[0;32m----> 1\u001b[0m mat_reduced \u001b[38;5;241m=\u001b[39m \u001b[43mPCA\u001b[49m\u001b[43m(\u001b[49m\u001b[43mX\u001b[49m\u001b[43m \u001b[49m\u001b[43m,\u001b[49m\u001b[43m \u001b[49m\u001b[38;5;241;43m2\u001b[39;49m\u001b[43m)\u001b[49m\n",
      "Input \u001b[0;32mIn [55]\u001b[0m, in \u001b[0;36mPCA\u001b[0;34m(X, n_dim)\u001b[0m\n\u001b[1;32m      2\u001b[0m X_meaned \u001b[38;5;241m=\u001b[39m X \u001b[38;5;241m-\u001b[39m np\u001b[38;5;241m.\u001b[39mmean(X , axis \u001b[38;5;241m=\u001b[39m \u001b[38;5;241m0\u001b[39m)\n\u001b[1;32m      3\u001b[0m cov_mat \u001b[38;5;241m=\u001b[39m np\u001b[38;5;241m.\u001b[39mcov(X_meaned , rowvar \u001b[38;5;241m=\u001b[39m \u001b[38;5;28;01mFalse\u001b[39;00m)\n\u001b[0;32m----> 4\u001b[0m eigen_values , eigen_vectors \u001b[38;5;241m=\u001b[39m \u001b[43mnp\u001b[49m\u001b[38;5;241;43m.\u001b[39;49m\u001b[43mlinalg\u001b[49m\u001b[38;5;241;43m.\u001b[39;49m\u001b[43meigh\u001b[49m\u001b[43m(\u001b[49m\u001b[43mcov_mat\u001b[49m\u001b[43m)\u001b[49m\n\u001b[1;32m      6\u001b[0m sorted_index \u001b[38;5;241m=\u001b[39m np\u001b[38;5;241m.\u001b[39margsort(eigen_values)[::\u001b[38;5;241m-\u001b[39m\u001b[38;5;241m1\u001b[39m]\n\u001b[1;32m      7\u001b[0m sorted_eigenvalue \u001b[38;5;241m=\u001b[39m eigen_values[sorted_index]\n",
      "File \u001b[0;32m<__array_function__ internals>:5\u001b[0m, in \u001b[0;36meigh\u001b[0;34m(*args, **kwargs)\u001b[0m\n",
      "File \u001b[0;32m~/opt/anaconda3/lib/python3.9/site-packages/numpy/linalg/linalg.py:1470\u001b[0m, in \u001b[0;36meigh\u001b[0;34m(a, UPLO)\u001b[0m\n\u001b[1;32m   1467\u001b[0m     gufunc \u001b[38;5;241m=\u001b[39m _umath_linalg\u001b[38;5;241m.\u001b[39meigh_up\n\u001b[1;32m   1469\u001b[0m signature \u001b[38;5;241m=\u001b[39m \u001b[38;5;124m'\u001b[39m\u001b[38;5;124mD->dD\u001b[39m\u001b[38;5;124m'\u001b[39m \u001b[38;5;28;01mif\u001b[39;00m isComplexType(t) \u001b[38;5;28;01melse\u001b[39;00m \u001b[38;5;124m'\u001b[39m\u001b[38;5;124md->dd\u001b[39m\u001b[38;5;124m'\u001b[39m\n\u001b[0;32m-> 1470\u001b[0m w, vt \u001b[38;5;241m=\u001b[39m \u001b[43mgufunc\u001b[49m\u001b[43m(\u001b[49m\u001b[43ma\u001b[49m\u001b[43m,\u001b[49m\u001b[43m \u001b[49m\u001b[43msignature\u001b[49m\u001b[38;5;241;43m=\u001b[39;49m\u001b[43msignature\u001b[49m\u001b[43m,\u001b[49m\u001b[43m \u001b[49m\u001b[43mextobj\u001b[49m\u001b[38;5;241;43m=\u001b[39;49m\u001b[43mextobj\u001b[49m\u001b[43m)\u001b[49m\n\u001b[1;32m   1471\u001b[0m w \u001b[38;5;241m=\u001b[39m w\u001b[38;5;241m.\u001b[39mastype(_realType(result_t), copy\u001b[38;5;241m=\u001b[39m\u001b[38;5;28;01mFalse\u001b[39;00m)\n\u001b[1;32m   1472\u001b[0m vt \u001b[38;5;241m=\u001b[39m vt\u001b[38;5;241m.\u001b[39mastype(result_t, copy\u001b[38;5;241m=\u001b[39m\u001b[38;5;28;01mFalse\u001b[39;00m)\n",
      "File \u001b[0;32m~/opt/anaconda3/lib/python3.9/site-packages/numpy/linalg/linalg.py:94\u001b[0m, in \u001b[0;36m_raise_linalgerror_eigenvalues_nonconvergence\u001b[0;34m(err, flag)\u001b[0m\n\u001b[1;32m     93\u001b[0m \u001b[38;5;28;01mdef\u001b[39;00m \u001b[38;5;21m_raise_linalgerror_eigenvalues_nonconvergence\u001b[39m(err, flag):\n\u001b[0;32m---> 94\u001b[0m     \u001b[38;5;28;01mraise\u001b[39;00m LinAlgError(\u001b[38;5;124m\"\u001b[39m\u001b[38;5;124mEigenvalues did not converge\u001b[39m\u001b[38;5;124m\"\u001b[39m)\n",
      "\u001b[0;31mLinAlgError\u001b[0m: Eigenvalues did not converge"
     ]
    }
   ],
   "source": [
    "mat_reduced = PCA(X , 2)"
   ]
  },
  {
   "cell_type": "code",
   "execution_count": 77,
   "metadata": {},
   "outputs": [
    {
     "data": {
      "text/plain": [
       "2"
      ]
     },
     "execution_count": 77,
     "metadata": {},
     "output_type": "execute_result"
    }
   ],
   "source": [
    "mat_reduced.ndim"
   ]
  },
  {
   "cell_type": "code",
   "execution_count": null,
   "metadata": {},
   "outputs": [],
   "source": []
  },
  {
   "cell_type": "code",
   "execution_count": null,
   "metadata": {
    "deletable": false,
    "editable": false,
    "nbgrader": {
     "cell_type": "code",
     "checksum": "c28502b4515275737fd9f871acc9c004",
     "grade": true,
     "grade_id": "cell-8196ea623c5f3393",
     "locked": true,
     "points": 2,
     "schema_version": 3,
     "solution": false,
     "task": false
    }
   },
   "outputs": [],
   "source": [
    "# This cell is reserved for the unit tests. Do not consider this cell. "
   ]
  },
  {
   "cell_type": "code",
   "execution_count": null,
   "metadata": {
    "deletable": false,
    "editable": false,
    "nbgrader": {
     "cell_type": "code",
     "checksum": "c7bf80c746db52fea9c8cb65874300c0",
     "grade": true,
     "grade_id": "cell-911f688d6545433a",
     "locked": true,
     "points": 5,
     "schema_version": 3,
     "solution": false,
     "task": false
    }
   },
   "outputs": [],
   "source": [
    "# This cell is reserved for the unit tests. Do not consider this cell. "
   ]
  },
  {
   "cell_type": "markdown",
   "metadata": {
    "deletable": false,
    "editable": false,
    "nbgrader": {
     "cell_type": "markdown",
     "checksum": "b429e1038d2a1b25cca3228f9784d597",
     "grade": false,
     "grade_id": "cell-1f45ea00d8677d33",
     "locked": true,
     "schema_version": 3,
     "solution": false,
     "task": false
    }
   },
   "source": [
    "## Question 2.3 (3 mark)\n",
    "\n",
    "Write a function `plot(X, y=None)` that exploits the PCA function to plot a two dimensional projection of the input `m x n` data matrix `X` and that,  if available, uses the numerical array `y` to determine the colors of the points (following Matplotlib convention). "
   ]
  },
  {
   "cell_type": "code",
   "execution_count": null,
   "metadata": {
    "deletable": false,
    "nbgrader": {
     "cell_type": "code",
     "checksum": "9361184ba77a9ce8f522efe43e4e3ba8",
     "grade": false,
     "grade_id": "cell-a65599c24a4a12c5",
     "locked": false,
     "schema_version": 3,
     "solution": true,
     "task": false
    }
   },
   "outputs": [],
   "source": [
    "def plot(X,y=None):\n",
    "    # YOUR CODE HERE\n",
    "    raise NotImplementedError()"
   ]
  },
  {
   "cell_type": "code",
   "execution_count": null,
   "metadata": {},
   "outputs": [],
   "source": []
  },
  {
   "cell_type": "code",
   "execution_count": 58,
   "metadata": {},
   "outputs": [],
   "source": [
    "def plot(X,y=None):\n",
    "    X_PCA = PCA(X , 2)\n",
    "    color = X_PCA[:,2].A.reshape(-1)\n",
    "    x1,x2 = X_PCA.A.T \n",
    "    plt.figure(figsize=(7,7))\n",
    "    plt.axvline(x=0, c='r', lw=.5)\n",
    "    plt.axhline(y=0, c='r', lw=.5)\n",
    "    if y is None:\n",
    "        plt.scatter(x1,x2, alpha=.6, linewidths=0.5, edgecolors='w')\n",
    "    else:\n",
    "        plt.scatter(x1,x2, c=color, alpha=.6, linewidths=0.5, edgecolors='w', cmap='brg')\n",
    "    plt.grid(which='major', color='grey', linestyle=':')\n",
    "    plt.minorticks_on()\n",
    "    plt.grid(which='minor', color='grey', alpha=.3,  linestyle=':', lw=.5)\n",
    "    plt.axis('equal')\n",
    "    plt.show()"
   ]
  },
  {
   "cell_type": "code",
   "execution_count": null,
   "metadata": {},
   "outputs": [],
   "source": [
    "#X = np.mat(df[cols].values)\n",
    "#color = X[:,2].A.reshape(-1)\n",
    "#D = np.mat(df.values)\n",
    "#color = X[:,2].A.reshape(-1) # use age for color with the scale: blue -> red -> green\n",
    "#plot(D[:,(0,1)],color)\n",
    "#plt.plot(X,y=None)"
   ]
  },
  {
   "cell_type": "code",
   "execution_count": 59,
   "metadata": {},
   "outputs": [],
   "source": [
    "def plot(X,y=None):\n",
    "    X_PCA = PCA(X , 2)\n",
    "    assert(X_PCA.shape[1]==2)\n",
    "    x1,x2 = X_PCA.A.T\n",
    "    plt.figure(figsize=(7,7))\n",
    "    #plt.axvline(x=0, c='r', lw=.5)\n",
    "    #plt.axhline(y=0, c='r', lw=.5)\n",
    "    plt.scatter(x1,x2, c=y, alpha=.6, linewidths=0.5, edgecolors='w', cmap='brg')\n",
    "    plt.grid(which='major', color='grey', linestyle=':')\n",
    "    plt.minorticks_on()\n",
    "    plt.grid(which='minor', color='grey', alpha=.3,  linestyle=':', lw=.5)\n",
    "    plt.show()"
   ]
  },
  {
   "cell_type": "code",
   "execution_count": 60,
   "metadata": {},
   "outputs": [],
   "source": [
    "X = np.mat(df[cols].values)"
   ]
  },
  {
   "cell_type": "code",
   "execution_count": 61,
   "metadata": {},
   "outputs": [
    {
     "data": {
      "text/plain": [
       "(399, 7)"
      ]
     },
     "execution_count": 61,
     "metadata": {},
     "output_type": "execute_result"
    }
   ],
   "source": [
    "X.shape"
   ]
  },
  {
   "cell_type": "code",
   "execution_count": null,
   "metadata": {},
   "outputs": [],
   "source": []
  },
  {
   "cell_type": "code",
   "execution_count": 62,
   "metadata": {},
   "outputs": [
    {
     "data": {
      "image/png": "[encoded data removed]",
      "text/plain": [
       "<Figure size 504x504 with 1 Axes>"
      ]
     },
     "metadata": {
      "needs_background": "light"
     },
     "output_type": "display_data"
    }
   ],
   "source": [
    "#df = load_exasens_data_set()\n",
    "df = add_binned_column(df, col_name='Age', limits=[30,50,60])\n",
    "df = replace_missing_with_conditional_mean(df, condition_cols=['Smoking','Gender','Age_bin'], cols=['Imaginary_Part_Min','Imaginary_Part_Avg','Real_Part_Min', 'Real_Part_Avg'])\n",
    "cols=['Imaginary_Part_Min','Imaginary_Part_Avg','Real_Part_Min', 'Real_Part_Avg']\n",
    "X = np.mat(df[cols].values)\n",
    "plot(X,y=None)"
   ]
  },
  {
   "cell_type": "code",
   "execution_count": null,
   "metadata": {},
   "outputs": [],
   "source": [
    "X.shape"
   ]
  },
  {
   "cell_type": "code",
   "execution_count": null,
   "metadata": {},
   "outputs": [],
   "source": []
  },
  {
   "cell_type": "code",
   "execution_count": null,
   "metadata": {},
   "outputs": [],
   "source": []
  },
  {
   "cell_type": "code",
   "execution_count": null,
   "metadata": {},
   "outputs": [],
   "source": []
  },
  {
   "cell_type": "code",
   "execution_count": null,
   "metadata": {},
   "outputs": [],
   "source": []
  },
  {
   "cell_type": "code",
   "execution_count": null,
   "metadata": {},
   "outputs": [],
   "source": []
  },
  {
   "cell_type": "code",
   "execution_count": null,
   "metadata": {},
   "outputs": [],
   "source": []
  },
  {
   "cell_type": "code",
   "execution_count": null,
   "metadata": {
    "deletable": false,
    "editable": false,
    "nbgrader": {
     "cell_type": "code",
     "checksum": "831d04a895bfbf6042636ded4689159c",
     "grade": true,
     "grade_id": "cell-c5362d9d55a44086",
     "locked": true,
     "points": 3,
     "schema_version": 3,
     "solution": false,
     "task": false
    }
   },
   "outputs": [],
   "source": [
    "# This cell is reserved for the unit tests. Do not consider this cell. "
   ]
  },
  {
   "cell_type": "markdown",
   "metadata": {
    "deletable": false,
    "editable": false,
    "nbgrader": {
     "cell_type": "markdown",
     "checksum": "3b73b05c4ff48f170f93d8be44e181d5",
     "grade": false,
     "grade_id": "cell-66a1dfcb91d1975e",
     "locked": true,
     "schema_version": 3,
     "solution": false,
     "task": false
    }
   },
   "source": [
    "## Checkpoint\n",
    "\n",
    "This is just a check-point, i.e. it is for you to see that you are correctly implementing all functions.\n",
    "\n",
    "Execute the following code (just execute the next cell):\n",
    "```\n",
    "df = load_exasens_data_set()\n",
    "df = add_binned_column(df, col_name='Age', limits=[30,50,60])\n",
    "df = replace_missing_with_conditional_mean(df, condition_cols=['Smoking','Gender','Age_bin'], cols=['Imaginary_Part_Min','Imaginary_Part_Avg','Real_Part_Min', 'Real_Part_Avg'])\n",
    "cols=['Imaginary_Part_Min','Imaginary_Part_Avg','Real_Part_Min', 'Real_Part_Avg']\n",
    "X = np.mat(df[cols].values)\n",
    "plot(X,y=None)\n",
    "```\n",
    "you should get something like\n",
    "\n",
    "<img src='plot1.png' width=500>"
   ]
  },
  {
   "cell_type": "code",
   "execution_count": null,
   "metadata": {
    "deletable": false,
    "editable": false,
    "nbgrader": {
     "cell_type": "code",
     "checksum": "6c1ebadb03a95706fde9bd017095f6a2",
     "grade": false,
     "grade_id": "cell-2763acf9c9e40ec2",
     "locked": true,
     "schema_version": 3,
     "solution": false,
     "task": false
    }
   },
   "outputs": [],
   "source": [
    "# Just run the following code, do not modify it\n",
    "\n",
    "df = load_exasens_data_set()\n",
    "df = add_binned_column(df, col_name='Age', limits=[30,50,60])\n",
    "df = replace_missing_with_conditional_mean(df, condition_cols=['Smoking','Gender','Age_bin'], cols=['Imaginary_Part_Min','Imaginary_Part_Avg','Real_Part_Min', 'Real_Part_Avg'])\n",
    "cols=['Imaginary_Part_Min','Imaginary_Part_Avg','Real_Part_Min', 'Real_Part_Avg']\n",
    "X = np.mat(df[cols].values)\n",
    "plot(X,y=None)"
   ]
  },
  {
   "cell_type": "markdown",
   "metadata": {
    "deletable": false,
    "editable": false,
    "nbgrader": {
     "cell_type": "markdown",
     "checksum": "8dd445a6f84c9108e02f52fdc51c5a59",
     "grade": false,
     "grade_id": "cell-d14483f571b19de5",
     "locked": true,
     "schema_version": 3,
     "solution": false,
     "task": false
    }
   },
   "source": [
    "## Question 2.4 (7 marks)\n",
    "\n",
    "Write a function `Z = approximate(X, r)` that returns the rank `r` approximation of the input data matrix `X`, i.e. for a `m x n` input matrix `X` returns a `m x n` matrix `Z` that has rank `r`."
   ]
  },
  {
   "cell_type": "code",
   "execution_count": null,
   "metadata": {
    "deletable": false,
    "nbgrader": {
     "cell_type": "code",
     "checksum": "e26a33309b58f8008ab53db9ced205a5",
     "grade": false,
     "grade_id": "cell-c585c374ab9204e1",
     "locked": false,
     "schema_version": 3,
     "solution": true,
     "task": false
    }
   },
   "outputs": [],
   "source": [
    "def approximate(X, r):\n",
    "    # YOUR CODE HERE\n",
    "    raise NotImplementedError()"
   ]
  },
  {
   "cell_type": "code",
   "execution_count": 63,
   "metadata": {},
   "outputs": [],
   "source": [
    "def approximate(X, r):\n",
    "    from numpy.linalg import svd\n",
    "    U, sigma, VT = svd(X, full_matrices=False)\n",
    "    u = U[:, 0]\n",
    "    v = VT[0]\n",
    "    X1 = np.outer(u, v) * sigma[0]\n",
    "    return X1"
   ]
  },
  {
   "cell_type": "code",
   "execution_count": 64,
   "metadata": {},
   "outputs": [],
   "source": [
    "a = approximate(X, 2)"
   ]
  },
  {
   "cell_type": "code",
   "execution_count": 65,
   "metadata": {},
   "outputs": [
    {
     "data": {
      "text/plain": [
       "array([[4.11009552, 4.4879747 , 4.29532064, 0.77449595],\n",
       "       [3.16934785, 3.46073538, 3.31217734, 0.59722385],\n",
       "       [3.09367494, 3.37810515, 3.23309416, 0.58296424],\n",
       "       ...,\n",
       "       [6.09932762, 6.66009535, 6.37419926, 1.14934179],\n",
       "       [2.66425934, 2.9092094 , 2.78432656, 0.50204626],\n",
       "       [4.93456324, 5.38824338, 5.15694373, 0.92985655]])"
      ]
     },
     "execution_count": 65,
     "metadata": {},
     "output_type": "execute_result"
    }
   ],
   "source": [
    "a"
   ]
  },
  {
   "cell_type": "code",
   "execution_count": null,
   "metadata": {},
   "outputs": [],
   "source": []
  },
  {
   "cell_type": "code",
   "execution_count": null,
   "metadata": {},
   "outputs": [],
   "source": []
  },
  {
   "cell_type": "code",
   "execution_count": null,
   "metadata": {},
   "outputs": [],
   "source": []
  },
  {
   "cell_type": "code",
   "execution_count": null,
   "metadata": {},
   "outputs": [],
   "source": []
  },
  {
   "cell_type": "code",
   "execution_count": null,
   "metadata": {},
   "outputs": [],
   "source": []
  },
  {
   "cell_type": "code",
   "execution_count": null,
   "metadata": {},
   "outputs": [],
   "source": []
  },
  {
   "cell_type": "code",
   "execution_count": null,
   "metadata": {},
   "outputs": [],
   "source": [
    "    from numpy.linalg import svd\n",
    "    U, sigma, VT = svd(X, full_matrices=False)\n",
    "    u = U[:, 0]\n",
    "    v = VT[0]\n",
    "    X1 = np.outer(u, v) * sigma[0]\n",
    "    return X1"
   ]
  },
  {
   "cell_type": "code",
   "execution_count": null,
   "metadata": {
    "deletable": false,
    "editable": false,
    "nbgrader": {
     "cell_type": "code",
     "checksum": "bfda2741490d209204dc6acd09801a4d",
     "grade": true,
     "grade_id": "cell-082bceaf73789588",
     "locked": true,
     "points": 7,
     "schema_version": 3,
     "solution": false,
     "task": false
    }
   },
   "outputs": [],
   "source": [
    "# This cell is reserved for the unit tests. Do not consider this cell. "
   ]
  },
  {
   "cell_type": "markdown",
   "metadata": {
    "deletable": false,
    "editable": false,
    "nbgrader": {
     "cell_type": "markdown",
     "checksum": "3f806854258d3aa5b1f226781ac29e1b",
     "grade": false,
     "grade_id": "cell-c52da20e8d0ebc3a",
     "locked": true,
     "schema_version": 3,
     "solution": false,
     "task": false
    }
   },
   "source": [
    "## Question 2.5 (5 marks)\n",
    "\n",
    "Write a function `err = approximation_error(X, r)` that returns an array `err` whose entries are the lenghts of the difference vector between the instances (rows) in the input data matrix `X` and the corresponding rows of the approximated matrix of rank `r`. When `X` is a `m x n` data matrix, the output `err` is a one dimensional array of size `m`."
   ]
  },
  {
   "cell_type": "code",
   "execution_count": null,
   "metadata": {
    "deletable": false,
    "nbgrader": {
     "cell_type": "code",
     "checksum": "a435a48014634dee160abf3dafa0b699",
     "grade": false,
     "grade_id": "cell-71e2c4b97bd40e74",
     "locked": false,
     "schema_version": 3,
     "solution": true,
     "task": false
    }
   },
   "outputs": [],
   "source": [
    "def approximation_error(X,r):\n",
    "    # YOUR CODE HERE\n",
    "    raise NotImplementedError()"
   ]
  },
  {
   "cell_type": "code",
   "execution_count": 67,
   "metadata": {},
   "outputs": [],
   "source": [
    "def approximation_error(X, r):\n",
    "    from numpy.linalg import svd\n",
    "    xrange=range\n",
    "    U, sigma, VT = svd(X, full_matrices=False)\n",
    "    Ar = np.zeros((len(U), len(VT)))\n",
    "    \n",
    "    for i in xrange(r):\n",
    "        Ar += sigma[i] * np.outer(U.T[i], VT[i])\n",
    "    return Ar"
   ]
  },
  {
   "cell_type": "code",
   "execution_count": 68,
   "metadata": {},
   "outputs": [
    {
     "data": {
      "text/plain": [
       "array([[3.96819806, 4.36649133, 4.55339961, 0.8001829 ],\n",
       "       [2.13978964, 2.57929459, 5.18470797, 0.78359933],\n",
       "       [2.09398533, 2.52223593, 5.05130063, 0.76393276],\n",
       "       [1.67288031, 2.10980408, 5.18675946, 0.7588311 ],\n",
       "       [2.00799964, 2.43091196, 4.99261828, 0.75175214],\n",
       "       [1.59979807, 1.9426164 , 4.0490793 , 0.60814132],\n",
       "       [1.15136683, 1.58557798, 5.19112083, 0.73143332],\n",
       "       [5.17948644, 5.6437897 , 5.26844074, 0.95737205],\n",
       "       [3.25557302, 3.69572561, 5.11275697, 0.83413861],\n",
       "       [4.40286092, 4.85953631, 5.23135569, 0.9109497 ]])"
      ]
     },
     "execution_count": 68,
     "metadata": {},
     "output_type": "execute_result"
    }
   ],
   "source": [
    "cols=['Imaginary_Part_Min','Imaginary_Part_Avg','Real_Part_Min', 'Real_Part_Avg']\n",
    "X = np.mat(df[cols].values)\n",
    "err = approximation_error(X, r=2)\n",
    "err[:10]"
   ]
  },
  {
   "cell_type": "code",
   "execution_count": 69,
   "metadata": {},
   "outputs": [
    {
     "data": {
      "text/plain": [
       "matrix([[2.9799733 , 5.36738773, 4.51566414, 0.45387561],\n",
       "        [2.12906097, 2.62015817, 5.25443503, 0.21703867],\n",
       "        [2.55451713, 2.10008256, 5.17242563, 0.09448224],\n",
       "        ...,\n",
       "        [6.68380062, 7.0281739 , 5.53932334, 0.54493924],\n",
       "        [1.48998665, 2.2000121 , 4.67968294, 0.331702  ],\n",
       "        [5.09449637, 5.16054093, 5.3445653 , 0.3600506 ]])"
      ]
     },
     "execution_count": 69,
     "metadata": {},
     "output_type": "execute_result"
    }
   ],
   "source": [
    "X"
   ]
  },
  {
   "cell_type": "code",
   "execution_count": 70,
   "metadata": {},
   "outputs": [
    {
     "data": {
      "text/plain": [
       "array([[3.96819806, 4.36649133, 4.55339961, 0.8001829 ],\n",
       "       [2.13978964, 2.57929459, 5.18470797, 0.78359933],\n",
       "       [2.09398533, 2.52223593, 5.05130063, 0.76393276],\n",
       "       [1.67288031, 2.10980408, 5.18675946, 0.7588311 ],\n",
       "       [2.00799964, 2.43091196, 4.99261828, 0.75175214],\n",
       "       [1.59979807, 1.9426164 , 4.0490793 , 0.60814132],\n",
       "       [1.15136683, 1.58557798, 5.19112083, 0.73143332],\n",
       "       [5.17948644, 5.6437897 , 5.26844074, 0.95737205],\n",
       "       [3.25557302, 3.69572561, 5.11275697, 0.83413861],\n",
       "       [4.40286092, 4.85953631, 5.23135569, 0.9109497 ]])"
      ]
     },
     "execution_count": 70,
     "metadata": {},
     "output_type": "execute_result"
    }
   ],
   "source": [
    "df = add_binned_column(df, col_name='Age', limits=[30,50,60])\n",
    "df = replace_missing_with_conditional_mean(df, condition_cols=['Smoking','Gender','Age_bin'], cols=['Imaginary_Part_Min','Imaginary_Part_Avg','Real_Part_Min', 'Real_Part_Avg'])\n",
    "cols=['Imaginary_Part_Min','Imaginary_Part_Avg','Real_Part_Min', 'Real_Part_Avg']\n",
    "X = np.mat(df[cols].values)\n",
    "err = approximation_error(X, r=2)\n",
    "err[:10]"
   ]
  },
  {
   "cell_type": "code",
   "execution_count": null,
   "metadata": {
    "deletable": false,
    "editable": false,
    "nbgrader": {
     "cell_type": "code",
     "checksum": "b8cf1b2a663ee70244b4985db4606d79",
     "grade": true,
     "grade_id": "cell-9e524bd8f4a69f26",
     "locked": true,
     "points": 5,
     "schema_version": 3,
     "solution": false,
     "task": false
    }
   },
   "outputs": [],
   "source": [
    "# This cell is reserved for the unit tests. Do not consider this cell. "
   ]
  },
  {
   "cell_type": "markdown",
   "metadata": {
    "deletable": false,
    "editable": false,
    "nbgrader": {
     "cell_type": "markdown",
     "checksum": "2e621b78e8758ad34fee13c563590ac4",
     "grade": false,
     "grade_id": "cell-0740461cac552b15",
     "locked": true,
     "schema_version": 3,
     "solution": false,
     "task": false
    }
   },
   "source": [
    "## Checkpoint\n",
    "\n",
    "This is just a check-point, i.e. it is for you to see that you are correctly implementing all functions.\n",
    "\n",
    "Execute the following code (just execute the next cell):\n",
    "```\n",
    "df = load_exasens_data_set()\n",
    "df = add_binned_column(df, col_name='Age', limits=[30,50,60])\n",
    "df = replace_missing_with_conditional_mean(df, condition_cols=['Smoking','Gender','Age_bin'], cols=['Imaginary_Part_Min','Imaginary_Part_Avg','Real_Part_Min', 'Real_Part_Avg'])\n",
    "cols=['Imaginary_Part_Min','Imaginary_Part_Avg','Real_Part_Min', 'Real_Part_Avg']\n",
    "X = np.mat(df[cols].values)\n",
    "err = approximation_error(X, r=2)\n",
    "err[:10]\n",
    "```\n",
    "you should get:\n",
    "\n",
    "```\n",
    "array([13.75510646,  5.3280034 ,  6.62261241,  4.78407324,  4.83648016,\n",
    "       17.40768544,  3.46226262,  0.24898097,  5.35576819,  5.86906756])\n",
    "```"
   ]
  },
  {
   "cell_type": "code",
   "execution_count": null,
   "metadata": {
    "deletable": false,
    "editable": false,
    "nbgrader": {
     "cell_type": "code",
     "checksum": "12b33ea81132451c3f8cb781bc9ab65a",
     "grade": false,
     "grade_id": "cell-fed0d56dd9179521",
     "locked": true,
     "schema_version": 3,
     "solution": false,
     "task": false
    }
   },
   "outputs": [],
   "source": [
    "# Just run the following code, do not modify it\n",
    "\n",
    "df = load_exasens_data_set()\n",
    "df = add_binned_column(df, col_name='Age', limits=[30,50,60])\n",
    "df = replace_missing_with_conditional_mean(df, condition_cols=['Smoking','Gender','Age_bin'], cols=['Imaginary_Part_Min','Imaginary_Part_Avg','Real_Part_Min', 'Real_Part_Avg'])\n",
    "cols=['Imaginary_Part_Min','Imaginary_Part_Avg','Real_Part_Min', 'Real_Part_Avg']\n",
    "X = np.mat(df[cols].values)\n",
    "err = approximation_error(X, r=2)\n",
    "err[:10]"
   ]
  },
  {
   "cell_type": "markdown",
   "metadata": {
    "deletable": false,
    "editable": false,
    "nbgrader": {
     "cell_type": "markdown",
     "checksum": "8381182166095df4585963b1ee85eea4",
     "grade": false,
     "grade_id": "cell-ccae0d1ace8ac45a",
     "locked": true,
     "schema_version": 3,
     "solution": false,
     "task": false
    }
   },
   "source": [
    "## Question 2.6 (5 mark)\n",
    "\n",
    "Write a function `Z = replace_missing_with_approximation(X, is_missing, r)` that receives in input a `m x n` data matrix `X` and a boolean array `is_missing` of size `m` and a desired rank `r`. The function computes a rank `r` approximation of `X` and replaces the vectors (rows) of `X` with the corresponding approximated vectors when the corresponding position in the boolean array `is_missing` contains `True`. The function should not change the input matrix `X`. The output data matrix `Z` has the same shape of the input data matrix `X`."
   ]
  },
  {
   "cell_type": "code",
   "execution_count": null,
   "metadata": {
    "deletable": false,
    "nbgrader": {
     "cell_type": "code",
     "checksum": "a03290a81740dfa23f8438e1019b01a1",
     "grade": false,
     "grade_id": "cell-751189ac74b98922",
     "locked": false,
     "schema_version": 3,
     "solution": true,
     "task": false
    }
   },
   "outputs": [],
   "source": [
    "def replace_missing_with_approximation(X, is_missing, r):\n",
    "    # YOUR CODE HERE\n",
    "    raise NotImplementedError()"
   ]
  },
  {
   "cell_type": "code",
   "execution_count": null,
   "metadata": {},
   "outputs": [],
   "source": []
  },
  {
   "cell_type": "code",
   "execution_count": 71,
   "metadata": {},
   "outputs": [],
   "source": [
    "def replace_missing_with_approximation(X, is_missing, r):\n",
    "    for col in X:\n",
    "        if(is_missing == True):\n",
    "            from numpy.linalg import svd\n",
    "            U, sigma, VT = svd(X, full_matrices=False)\n",
    "            u = U[:, 0]\n",
    "            v = VT[0]\n",
    "            X1 = np.outer(u, v) * sigma[0]\n",
    "            X.loc[X[col]] = X[col].transform(X1)\n",
    "        \n",
    "    return X"
   ]
  },
  {
   "cell_type": "code",
   "execution_count": 235,
   "metadata": {},
   "outputs": [
    {
     "ename": "ValueError",
     "evalue": "The truth value of a Series is ambiguous. Use a.empty, a.bool(), a.item(), a.any() or a.all().",
     "output_type": "error",
     "traceback": [
      "\u001b[0;31m---------------------------------------------------------------------------\u001b[0m",
      "\u001b[0;31mValueError\u001b[0m                                Traceback (most recent call last)",
      "Input \u001b[0;32mIn [235]\u001b[0m, in \u001b[0;36m<cell line: 12>\u001b[0;34m()\u001b[0m\n\u001b[1;32m     10\u001b[0m y \u001b[38;5;241m=\u001b[39m df[\u001b[38;5;124m'\u001b[39m\u001b[38;5;124mtarget\u001b[39m\u001b[38;5;124m'\u001b[39m]\u001b[38;5;241m.\u001b[39mvalues\n\u001b[1;32m     11\u001b[0m is_missing \u001b[38;5;241m=\u001b[39m df1[names]\u001b[38;5;241m.\u001b[39misnull()\u001b[38;5;241m.\u001b[39msum(axis\u001b[38;5;241m=\u001b[39m\u001b[38;5;241m1\u001b[39m)\u001b[38;5;241m>\u001b[39m\u001b[38;5;241m0\u001b[39m\n\u001b[0;32m---> 12\u001b[0m Xp \u001b[38;5;241m=\u001b[39m \u001b[43mreplace_missing_with_approximation\u001b[49m\u001b[43m(\u001b[49m\u001b[43mX\u001b[49m\u001b[43m,\u001b[49m\u001b[43m \u001b[49m\u001b[43mis_missing\u001b[49m\u001b[43m,\u001b[49m\u001b[43m \u001b[49m\u001b[43mr\u001b[49m\u001b[38;5;241;43m=\u001b[39;49m\u001b[38;5;241;43m2\u001b[39;49m\u001b[43m)\u001b[49m\n",
      "Input \u001b[0;32mIn [234]\u001b[0m, in \u001b[0;36mreplace_missing_with_approximation\u001b[0;34m(X, is_missing, r)\u001b[0m\n\u001b[1;32m      1\u001b[0m \u001b[38;5;28;01mdef\u001b[39;00m \u001b[38;5;21mreplace_missing_with_approximation\u001b[39m(X, is_missing, r):\n\u001b[1;32m      2\u001b[0m     \u001b[38;5;28;01mfor\u001b[39;00m col \u001b[38;5;129;01min\u001b[39;00m X:\n\u001b[0;32m----> 3\u001b[0m         \u001b[38;5;28;01mif\u001b[39;00m(is_missing \u001b[38;5;241m==\u001b[39m \u001b[38;5;28;01mTrue\u001b[39;00m):\n\u001b[1;32m      4\u001b[0m             \u001b[38;5;28;01mfrom\u001b[39;00m \u001b[38;5;21;01mnumpy\u001b[39;00m\u001b[38;5;21;01m.\u001b[39;00m\u001b[38;5;21;01mlinalg\u001b[39;00m \u001b[38;5;28;01mimport\u001b[39;00m svd\n\u001b[1;32m      5\u001b[0m             U, sigma, VT \u001b[38;5;241m=\u001b[39m svd(X, full_matrices\u001b[38;5;241m=\u001b[39m\u001b[38;5;28;01mFalse\u001b[39;00m)\n",
      "File \u001b[0;32m~/opt/anaconda3/lib/python3.9/site-packages/pandas/core/generic.py:1527\u001b[0m, in \u001b[0;36mNDFrame.__nonzero__\u001b[0;34m(self)\u001b[0m\n\u001b[1;32m   1525\u001b[0m \u001b[38;5;129m@final\u001b[39m\n\u001b[1;32m   1526\u001b[0m \u001b[38;5;28;01mdef\u001b[39;00m \u001b[38;5;21m__nonzero__\u001b[39m(\u001b[38;5;28mself\u001b[39m):\n\u001b[0;32m-> 1527\u001b[0m     \u001b[38;5;28;01mraise\u001b[39;00m \u001b[38;5;167;01mValueError\u001b[39;00m(\n\u001b[1;32m   1528\u001b[0m         \u001b[38;5;124mf\u001b[39m\u001b[38;5;124m\"\u001b[39m\u001b[38;5;124mThe truth value of a \u001b[39m\u001b[38;5;132;01m{\u001b[39;00m\u001b[38;5;28mtype\u001b[39m(\u001b[38;5;28mself\u001b[39m)\u001b[38;5;241m.\u001b[39m\u001b[38;5;18m__name__\u001b[39m\u001b[38;5;132;01m}\u001b[39;00m\u001b[38;5;124m is ambiguous. \u001b[39m\u001b[38;5;124m\"\u001b[39m\n\u001b[1;32m   1529\u001b[0m         \u001b[38;5;124m\"\u001b[39m\u001b[38;5;124mUse a.empty, a.bool(), a.item(), a.any() or a.all().\u001b[39m\u001b[38;5;124m\"\u001b[39m\n\u001b[1;32m   1530\u001b[0m     )\n",
      "\u001b[0;31mValueError\u001b[0m: The truth value of a Series is ambiguous. Use a.empty, a.bool(), a.item(), a.any() or a.all()."
     ]
    }
   ],
   "source": [
    "#df1 = df.copy()\n",
    "df = add_binned_column(df, col_name='Age', limits=[30,50,60])\n",
    "df = add_class(df, col_name='Diagnosis')\n",
    "cols=['Imaginary_Part_Min','Imaginary_Part_Avg','Real_Part_Min', 'Real_Part_Avg']\n",
    "cols2=['Imaginary_Part_Min','Imaginary_Part_Avg','Real_Part_Min', 'Real_Part_Avg','Gender','Age','Smoking']\n",
    "names = ['Diagnosis', 'ID','Imaginary_Part_Min','Imaginary_Part_Avg','Real_Part_Min','Real_Part_Avg','Gender','Age','Smoking']\n",
    "\n",
    "df = replace_missing_with_conditional_mean(df, condition_cols=['Smoking','Gender','Age_bin'], cols=cols)\n",
    "X = np.mat(df[cols2].values)\n",
    "y = df['target'].values\n",
    "is_missing = df1[names].isnull().sum(axis=1)>0\n",
    "Xp = replace_missing_with_approximation(X, is_missing, r=2)\n",
    "#Xc,yc = remove_outliers(Xp,y, threshold=2)\n",
    "#n = Xc.shape[0]"
   ]
  },
  {
   "cell_type": "code",
   "execution_count": null,
   "metadata": {},
   "outputs": [],
   "source": []
  },
  {
   "cell_type": "code",
   "execution_count": null,
   "metadata": {},
   "outputs": [],
   "source": []
  },
  {
   "cell_type": "code",
   "execution_count": null,
   "metadata": {},
   "outputs": [],
   "source": []
  },
  {
   "cell_type": "code",
   "execution_count": null,
   "metadata": {},
   "outputs": [],
   "source": []
  },
  {
   "cell_type": "code",
   "execution_count": null,
   "metadata": {
    "deletable": false,
    "editable": false,
    "nbgrader": {
     "cell_type": "code",
     "checksum": "6fbb51aa4c54b692a9e35f428481ff03",
     "grade": true,
     "grade_id": "cell-b564f92b467ad5d8",
     "locked": true,
     "points": 5,
     "schema_version": 3,
     "solution": false,
     "task": false
    }
   },
   "outputs": [],
   "source": [
    "# This cell is reserved for the unit tests. Do not consider this cell. "
   ]
  },
  {
   "cell_type": "markdown",
   "metadata": {
    "deletable": false,
    "editable": false,
    "nbgrader": {
     "cell_type": "markdown",
     "checksum": "86329c81d854fcedff5079af16c977be",
     "grade": false,
     "grade_id": "cell-57229db2137e6b94",
     "locked": true,
     "schema_version": 3,
     "solution": false,
     "task": false
    }
   },
   "source": [
    "## Question 2.7 (10 marks)\n",
    "\n",
    "\n",
    "Write a function `Xp, yp = remove_outliers(X, y, threshold)` that receives in input a `m x n` data matrix `X` and a class vector `y` of size `m` and outputs a data matrix `Xp` and a class vector `yp`. The entries of the class vector indicate the class of each instance (row) of `X`. Let `Xi` be the (sub-)data matrix relative to class `i`. The `remove_outliers` function computes the Mahalanobis distance of each vector in `Xi` with respect to the multivariate probability distribution that can be inferred from all the vectors in `Xi`. Only the vectors with a distance strictly inferior than the provided numerical parameter `threshold` are kept in the output marix `Xp`, i.e. the `remove_outliers` function removes the instances that have a large mahalanobis distance within each class. \n",
    "\n",
    "Note that the order of the vectors (rows) in `X` is not necessarily related to the order of the vectors (rows) in `Xp`. \n",
    "But the entries in `Xp` and `yp` must be aligned (i.e. the class of the row vector `Xp[j]` with row index `j` is `yp[j]`)."
   ]
  },
  {
   "cell_type": "code",
   "execution_count": null,
   "metadata": {
    "deletable": false,
    "nbgrader": {
     "cell_type": "code",
     "checksum": "c02b6816dee24d9aa5675c890f1aa2e7",
     "grade": false,
     "grade_id": "cell-3dd7dad7ac2a520c",
     "locked": false,
     "schema_version": 3,
     "solution": true,
     "task": false
    }
   },
   "outputs": [],
   "source": [
    "def remove_outliers(X, y, threshold):\n",
    "    # YOUR CODE HERE\n",
    "    raise NotImplementedError()"
   ]
  },
  {
   "cell_type": "code",
   "execution_count": 238,
   "metadata": {},
   "outputs": [],
   "source": [
    "def remove_outliers(X, y, threshold):\n",
    "    mu, cov = get_mean_and_cov(X)\n",
    "    Xc = center(X, mu)\n",
    "    Pc = center(P, mu)\n",
    "    D = np.sqrt(np.diag(Pc * cov.I * Pc.T)) #not efficient!\n",
    "    outliers_list = [x for x in D if (x > mean - 2 * sd)]\n",
    "    outliers_list = [x for x in final_list if (x < mean + 2 * sd)]\n",
    "    return outliers_list"
   ]
  },
  {
   "cell_type": "code",
   "execution_count": null,
   "metadata": {},
   "outputs": [],
   "source": []
  },
  {
   "cell_type": "code",
   "execution_count": null,
   "metadata": {},
   "outputs": [],
   "source": []
  },
  {
   "cell_type": "code",
   "execution_count": null,
   "metadata": {},
   "outputs": [],
   "source": []
  },
  {
   "cell_type": "code",
   "execution_count": null,
   "metadata": {},
   "outputs": [],
   "source": []
  },
  {
   "cell_type": "code",
   "execution_count": null,
   "metadata": {},
   "outputs": [],
   "source": []
  },
  {
   "cell_type": "code",
   "execution_count": null,
   "metadata": {
    "deletable": false,
    "editable": false,
    "nbgrader": {
     "cell_type": "code",
     "checksum": "8b66a99f54e3b92d8807239db5c71137",
     "grade": true,
     "grade_id": "cell-961ada4f33acce86",
     "locked": true,
     "points": 10,
     "schema_version": 3,
     "solution": false,
     "task": false
    }
   },
   "outputs": [],
   "source": [
    "# This cell is reserved for the unit tests. Do not consider this cell. "
   ]
  },
  {
   "cell_type": "markdown",
   "metadata": {
    "deletable": false,
    "editable": false,
    "nbgrader": {
     "cell_type": "markdown",
     "checksum": "2b1db3037d92bb57577e7f7547b4ff55",
     "grade": false,
     "grade_id": "cell-8880fd19aa7e4674",
     "locked": true,
     "schema_version": 3,
     "solution": false,
     "task": false
    }
   },
   "source": [
    "## Checkpoint\n",
    "\n",
    "This is just a check-point, i.e. it is for you to see that you are correctly implementing all functions.\n",
    "\n",
    "Execute the following code (just execute the next cell):\n",
    "\n",
    "```\n",
    "df = load_exasens_data_set()\n",
    "df1 = df.copy()\n",
    "df = add_binned_column(df, col_name='Age', limits=[30,50,60])\n",
    "df = add_class(df, col_name='Diagnosis')\n",
    "cols=['Imaginary_Part_Min','Imaginary_Part_Avg','Real_Part_Min', 'Real_Part_Avg']\n",
    "cols2=['Imaginary_Part_Min','Imaginary_Part_Avg','Real_Part_Min', 'Real_Part_Avg','Gender','Age','Smoking']\n",
    "names = ['Diagnosis', 'ID','Imaginary_Part_Min','Imaginary_Part_Avg','Real_Part_Min','Real_Part_Avg','Gender','Age','Smoking']\n",
    "\n",
    "df = replace_missing_with_conditional_mean(df, condition_cols=['Smoking','Gender','Age_bin'], cols=cols)\n",
    "X = np.mat(df[cols2].values)\n",
    "y = df['target'].values\n",
    "is_missing = df1[names].isnull().sum(axis=1)>0\n",
    "Xp = replace_missing_with_approximation(X, is_missing, r=2)\n",
    "Xc,yc = remove_outliers(Xp,y, threshold=2)\n",
    "n = Xc.shape[0]\n",
    "\n",
    "print(n) # The number of instances selected as non outliers\n",
    "```\n",
    "\n",
    "You should get a number smaller than 300.\n"
   ]
  },
  {
   "cell_type": "code",
   "execution_count": 42,
   "metadata": {
    "deletable": false,
    "editable": false,
    "nbgrader": {
     "cell_type": "code",
     "checksum": "5818395525486f9d7b0d328c7ad63e47",
     "grade": false,
     "grade_id": "cell-8bce9de3ace2f0dd",
     "locked": true,
     "schema_version": 3,
     "solution": false,
     "task": false
    }
   },
   "outputs": [
    {
     "ename": "NameError",
     "evalue": "name 'replace_missing_with_approximation' is not defined",
     "output_type": "error",
     "traceback": [
      "\u001b[0;31m---------------------------------------------------------------------------\u001b[0m",
      "\u001b[0;31mNameError\u001b[0m                                 Traceback (most recent call last)",
      "Input \u001b[0;32mIn [42]\u001b[0m, in \u001b[0;36m<cell line: 15>\u001b[0;34m()\u001b[0m\n\u001b[1;32m     13\u001b[0m y \u001b[38;5;241m=\u001b[39m df[\u001b[38;5;124m'\u001b[39m\u001b[38;5;124mtarget\u001b[39m\u001b[38;5;124m'\u001b[39m]\u001b[38;5;241m.\u001b[39mvalues\n\u001b[1;32m     14\u001b[0m is_missing \u001b[38;5;241m=\u001b[39m df1[names]\u001b[38;5;241m.\u001b[39misnull()\u001b[38;5;241m.\u001b[39msum(axis\u001b[38;5;241m=\u001b[39m\u001b[38;5;241m1\u001b[39m)\u001b[38;5;241m>\u001b[39m\u001b[38;5;241m0\u001b[39m\n\u001b[0;32m---> 15\u001b[0m Xp \u001b[38;5;241m=\u001b[39m \u001b[43mreplace_missing_with_approximation\u001b[49m(X, is_missing, r\u001b[38;5;241m=\u001b[39m\u001b[38;5;241m2\u001b[39m)\n\u001b[1;32m     16\u001b[0m Xc,yc \u001b[38;5;241m=\u001b[39m remove_outliers(Xp,y, threshold\u001b[38;5;241m=\u001b[39m\u001b[38;5;241m2\u001b[39m)\n\u001b[1;32m     17\u001b[0m n \u001b[38;5;241m=\u001b[39m Xc\u001b[38;5;241m.\u001b[39mshape[\u001b[38;5;241m0\u001b[39m]\n",
      "\u001b[0;31mNameError\u001b[0m: name 'replace_missing_with_approximation' is not defined"
     ]
    }
   ],
   "source": [
    "# Just run the following code, do not modify it\n",
    "\n",
    "df = load_exasens_data_set()\n",
    "df1 = df.copy()\n",
    "df = add_binned_column(df, col_name='Age', limits=[30,50,60])\n",
    "df = add_class(df, col_name='Diagnosis')\n",
    "cols=['Imaginary_Part_Min','Imaginary_Part_Avg','Real_Part_Min', 'Real_Part_Avg']\n",
    "cols2=['Imaginary_Part_Min','Imaginary_Part_Avg','Real_Part_Min', 'Real_Part_Avg','Gender','Age','Smoking']\n",
    "names = ['Diagnosis', 'ID','Imaginary_Part_Min','Imaginary_Part_Avg','Real_Part_Min','Real_Part_Avg','Gender','Age','Smoking']\n",
    "\n",
    "df = replace_missing_with_conditional_mean(df, condition_cols=['Smoking','Gender','Age_bin'], cols=cols)\n",
    "X = np.mat(df[cols2].values)\n",
    "y = df['target'].values\n",
    "is_missing = df1[names].isnull().sum(axis=1)>0\n",
    "Xp = replace_missing_with_approximation(X, is_missing, r=2)\n",
    "Xc,yc = remove_outliers(Xp,y, threshold=2)\n",
    "n = Xc.shape[0]\n",
    "\n",
    "print(n) # The number of instances selected as non outliers"
   ]
  },
  {
   "cell_type": "markdown",
   "metadata": {
    "deletable": false,
    "editable": false,
    "nbgrader": {
     "cell_type": "markdown",
     "checksum": "c0dc1c2c5a0ab0359f5bf6572baeb740",
     "grade": false,
     "grade_id": "cell-1858a2919c4e20d5",
     "locked": true,
     "schema_version": 3,
     "solution": false,
     "task": false
    }
   },
   "source": [
    "# Part 3 (30 marks)\n",
    "\n",
    "\n",
    "**Aim:** demonstrate an understanding of LDA. \n",
    "\n",
    "In this exercise you will need to build a dataset using the `multivariate_normal` function provided by the numpy library. You will then fit a multiclass LDA model to your data and finally you will display the decision boundaries of the trained predictive model and measure the accuracy of the resulting classifier. \n",
    "\n",
    "\n",
    "**Construction of the dataset:**\n",
    "\n",
    "Given a parameter `k`, the dataset is generated using `k` multi variate normal data generators. All instances are 2 dimensional. \n",
    "\n",
    "\n",
    "At the end for `make_data(k=5, num_instances=1000, radius=10, ratio=2, rotation=0)` you should obtain something like this:\n",
    "\n",
    "\n",
    "<center><img src=\"dat.png\" alt=\"ex\" width=\"400\"/></center>\n",
    "\n",
    "\n",
    "**LDA classifier:**\n",
    "\n",
    "At the end your implementation of the LDA classifier should allow you to obtain something like this:\n",
    "\n",
    "\n",
    "<center><img src=\"lda.png\" alt=\"ex\" width=\"400\"/></center>\n",
    "\n",
    "\n",
    "In this exercise data matrices are considered row-wise, that is a data matrix for `m` instances is a `m x n` matrix consisting of `m` vectors in `n` dimensions.\n",
    "\n",
    "**Overview of the questions:**\n",
    "\n",
    "Questions 3.1, 3.2 and 3.3 are about the construction of the dataset.\n",
    "\n",
    "Question 3.4 is about model fitting and testing.\n",
    "\n",
    "Question 3.5, 3.6 and 3.7 are about calculating the accuracy of predictions and visualising the results."
   ]
  },
  {
   "cell_type": "markdown",
   "metadata": {
    "deletable": false,
    "editable": false,
    "nbgrader": {
     "cell_type": "markdown",
     "checksum": "adab62c289528b8bd7c9afdc2f93bcd7",
     "grade": false,
     "grade_id": "cell-19419beea5632a9b",
     "locked": true,
     "schema_version": 3,
     "solution": false,
     "task": false
    }
   },
   "source": [
    "## Question 3.1 (3 marks)\n",
    "\n",
    "Write a function `C = make_means(k, radius)` that outputs a `k x 2` data matrix `C` containing the 2D coordinates of `k` means (of the data to be generated later).  The means of the data generator must lie on the vertices of a regular polygon (if `k=3` the polygon is a equilateral triangle, if `k=6` it is a regular hexagon, etc). Write your own code to determine the position of the vertices of a regular polygon given a radius value (input `radius`) of the circle centered in the origin and inscribing the regular polygon. The first point of the polygon on the x-axis. \n",
    "\n",
    "For example `make_means(3, radius=1)` would yield:\n",
    "```\n",
    "[[ 1. ,  0.       ],\n",
    "[-0.5 ,  0.8660254],\n",
    "[-0.5 , -0.8660254]]\n",
    "```\n",
    "\n",
    " *Hint: you can use your knowledge on linear transformations (e.g. rotations).*  "
   ]
  },
  {
   "cell_type": "code",
   "execution_count": null,
   "metadata": {
    "deletable": false,
    "nbgrader": {
     "cell_type": "code",
     "checksum": "ff57dffcf90d51da9911447a60f00089",
     "grade": false,
     "grade_id": "cell-3214644003f0dc17",
     "locked": false,
     "schema_version": 3,
     "solution": true,
     "task": false
    }
   },
   "outputs": [],
   "source": [
    "def make_means(k, radius):\n",
    "    # YOUR CODE HERE\n",
    "    raise NotImplementedError()"
   ]
  },
  {
   "cell_type": "code",
   "execution_count": null,
   "metadata": {},
   "outputs": [],
   "source": [
    "def make_means(k, radius):\n",
    "    data_size = 1000\n",
    "    num_iters = 50\n",
    "    num_clusters = k\n",
    "    \n",
    "    # sample from Gaussians \n",
    "    data1 = np.random.normal((5,5,5), (4, 4, 4), (data_size,k))\n",
    "    data2 = np.random.normal((4,20,20), (3,3,3), (data_size, k))\n",
    "    data3 = np.random.normal((25, 20, 5), (5, 5, 5), (data_size,k))\n",
    "    data4 = np.random.normal((30, 30, 30), (5, 5, 5), (data_size,k))\n",
    "    \n",
    "    # Combine the data to create the final dataset\n",
    "    data = np.concatenate((data1,data2, data3, data4), axis = 0)\n",
    "\n",
    "    # Shuffle the data\n",
    "    np.random.shuffle(data)"
   ]
  },
  {
   "cell_type": "code",
   "execution_count": null,
   "metadata": {},
   "outputs": [],
   "source": []
  },
  {
   "cell_type": "code",
   "execution_count": null,
   "metadata": {},
   "outputs": [],
   "source": []
  },
  {
   "cell_type": "code",
   "execution_count": null,
   "metadata": {},
   "outputs": [],
   "source": []
  },
  {
   "cell_type": "code",
   "execution_count": null,
   "metadata": {},
   "outputs": [],
   "source": []
  },
  {
   "cell_type": "code",
   "execution_count": null,
   "metadata": {},
   "outputs": [],
   "source": []
  },
  {
   "cell_type": "code",
   "execution_count": null,
   "metadata": {
    "deletable": false,
    "editable": false,
    "nbgrader": {
     "cell_type": "code",
     "checksum": "212c69bb711d0001c80edcff0e318484",
     "grade": true,
     "grade_id": "cell-b2b21984d8ae0f0f",
     "locked": true,
     "points": 3,
     "schema_version": 3,
     "solution": false,
     "task": false
    }
   },
   "outputs": [],
   "source": [
    "# This cell is reserved for the unit tests. Do not consider this cell. "
   ]
  },
  {
   "cell_type": "markdown",
   "metadata": {
    "deletable": false,
    "editable": false,
    "nbgrader": {
     "cell_type": "markdown",
     "checksum": "35942b79c08f14be234404eb796d3f00",
     "grade": false,
     "grade_id": "cell-66f235f8127ae379",
     "locked": true,
     "schema_version": 3,
     "solution": false,
     "task": false
    }
   },
   "source": [
    "## Question 3.2 (3 marks)\n",
    "\n",
    "Write a function `S = make_covariance(ratio, rotation)` to build a `2 x 2` covariance matrix `S` (for the data to be generated later).\n",
    "The covariance matrix is constructed by specifying 2 parameters: a `ratio` between the two main directions of variability of the data (if the ratio is, say, 2:1, then the parameter is 2); and a `rotation` in degrees (i.e. 90 for a right angle) to determine the main *direction* of variability. \n",
    "\n",
    "*Example:* If the ratio is 2 and the rotation is 0 your covariance matrix will be:\n",
    "```[[4., 0.],\n",
    " [0., 1.]]```\n",
    "\n",
    "*Example:* If the ratio is 2 and the rotation is 45 your covariance matrix will be:\n",
    "\n",
    "```[[2.5, 1.5],\n",
    " [1.5, 2.5]]```\n",
    " \n",
    "Hint: try to plot a multivariate Gaussian distribution with these covariance matrices to understand the effect of the matrices in the examples (in a separate notebook)"
   ]
  },
  {
   "cell_type": "code",
   "execution_count": null,
   "metadata": {
    "deletable": false,
    "nbgrader": {
     "cell_type": "code",
     "checksum": "bbfccb6b39b76a33b476666f02239d15",
     "grade": false,
     "grade_id": "cell-f694e600f9cc60f7",
     "locked": false,
     "schema_version": 3,
     "solution": true,
     "task": false
    }
   },
   "outputs": [],
   "source": [
    "def make_covariance(ratio, rotation):\n",
    "    # YOUR CODE HERE\n",
    "    raise NotImplementedError()"
   ]
  },
  {
   "cell_type": "code",
   "execution_count": null,
   "metadata": {},
   "outputs": [],
   "source": [
    "def make_covariance(ratio, rotation):\n",
    "    M = np.mat(np.random.rand(n,n)*2-1)\n",
    "    M = M+M.T\n",
    "    return M"
   ]
  },
  {
   "cell_type": "code",
   "execution_count": null,
   "metadata": {},
   "outputs": [],
   "source": []
  },
  {
   "cell_type": "code",
   "execution_count": null,
   "metadata": {
    "deletable": false,
    "editable": false,
    "nbgrader": {
     "cell_type": "code",
     "checksum": "4b24e98015f2ab12220eca9bdf2a63b0",
     "grade": true,
     "grade_id": "cell-bf02889b8c77d733",
     "locked": true,
     "points": 3,
     "schema_version": 3,
     "solution": false,
     "task": false
    }
   },
   "outputs": [],
   "source": [
    "# This cell is reserved for the unit tests. Do not consider this cell. "
   ]
  },
  {
   "cell_type": "markdown",
   "metadata": {
    "deletable": false,
    "editable": false,
    "nbgrader": {
     "cell_type": "markdown",
     "checksum": "8f30596c10a66e051ed85ad01ec736fc",
     "grade": false,
     "grade_id": "cell-b52509af69a86c3f",
     "locked": true,
     "schema_version": 3,
     "solution": false,
     "task": false
    }
   },
   "source": [
    "## Question 3.3 (3 marks)\n",
    "\n",
    "Write a function `X, targets = make_data(k, num_instances, radius, ratio, rotation)` to output a data matrix `X` and a one dimensional class vector `targets`.\n",
    "\n",
    "Using the previous functions (in questions 3.1 and 3.2) generate a data matrix `X` with `num_instances` rows (instances) and 2 columns and a `targets` vector of length `num_instances` containing a class indicator for each instance (i.e. an integer between 0 and k-1 indicating the class the corresponding instance belongs to). \n",
    "\n",
    "The function takes in input the number of classes `k`, the total number of instances `num_instances`, a single numeric parameter `radius` to express the distance from the origin for the means of the multi variate normal data generators (see question 3.1), and finally the `ratio` and the `rotation` as specified previously for the `make_covariance` function (see question 3.2).\n",
    "\n",
    "Instances generated using different means belong to different classes. Generate the same number of instances for each class for a total of `num_instances` (assume that `num_instances` is an exact multiple of `k`)."
   ]
  },
  {
   "cell_type": "code",
   "execution_count": null,
   "metadata": {
    "deletable": false,
    "nbgrader": {
     "cell_type": "code",
     "checksum": "39aeb62e65df367ce54084bfe9d25dbe",
     "grade": false,
     "grade_id": "cell-62edb01fbf66a7a7",
     "locked": false,
     "schema_version": 3,
     "solution": true,
     "task": false
    }
   },
   "outputs": [],
   "source": [
    "def make_data(k, num_instances, radius, ratio, rotation):\n",
    "    # YOUR CODE HERE\n",
    "    raise NotImplementedError()"
   ]
  },
  {
   "cell_type": "code",
   "execution_count": null,
   "metadata": {},
   "outputs": [],
   "source": [
    "def make_mean_and_cov(n, scale=10):\n",
    "    mu = (np.random.rand(n)*2-1)*scale\n",
    "    return mu, make_PSD(n)"
   ]
  },
  {
   "cell_type": "code",
   "execution_count": null,
   "metadata": {},
   "outputs": [],
   "source": [
    "def make_PSD(n):\n",
    "    M = np.mat(np.random.rand(n,n)*2-1)\n",
    "    M = M+M.T\n",
    "    return M*M"
   ]
  },
  {
   "cell_type": "code",
   "execution_count": null,
   "metadata": {},
   "outputs": [],
   "source": [
    "def make_dataset(n_blobs=2, n_instances=1000, n_dim=2, scale=5):\n",
    "    Ds = [np.random.multivariate_normal(*make_mean_and_cov(n_dim, scale), n_instances) for i in range(n_blobs)]\n",
    "    X = np.vstack(Ds)\n",
    "    y = np.hstack([[i]*D.shape[0] for i, D in enumerate(Ds)])\n",
    "    return np.mat(X),y.reshape(-1)"
   ]
  },
  {
   "cell_type": "code",
   "execution_count": null,
   "metadata": {},
   "outputs": [],
   "source": [
    "def make_data(k, num_instances, radius, ratio, rotation):\n",
    "    M = np.mat(np.random.rand(n,n)*2-1)\n",
    "    M = M+M.T\n",
    "    make_PSD = M*M\n",
    "    \n",
    "    mu = (np.random.rand(n)*2-1)*scale\n",
    "    \n",
    "     "
   ]
  },
  {
   "cell_type": "code",
   "execution_count": null,
   "metadata": {},
   "outputs": [],
   "source": []
  },
  {
   "cell_type": "code",
   "execution_count": null,
   "metadata": {},
   "outputs": [],
   "source": []
  },
  {
   "cell_type": "code",
   "execution_count": null,
   "metadata": {},
   "outputs": [],
   "source": []
  },
  {
   "cell_type": "code",
   "execution_count": null,
   "metadata": {},
   "outputs": [],
   "source": [
    "X,y = make_dataset(n_blobs=2, n_instances=1000, n_dim=2, scale=5)\n",
    "plot(X,y)"
   ]
  },
  {
   "cell_type": "code",
   "execution_count": null,
   "metadata": {
    "deletable": false,
    "editable": false,
    "nbgrader": {
     "cell_type": "code",
     "checksum": "350b422a74769cd088500f0292602f19",
     "grade": true,
     "grade_id": "cell-c6f21aafc1c39553",
     "locked": true,
     "points": 3,
     "schema_version": 3,
     "solution": false,
     "task": false
    }
   },
   "outputs": [],
   "source": [
    "# This cell is reserved for the unit tests. Do not consider this cell. "
   ]
  },
  {
   "cell_type": "code",
   "execution_count": null,
   "metadata": {},
   "outputs": [],
   "source": []
  },
  {
   "cell_type": "markdown",
   "metadata": {
    "deletable": false,
    "editable": false,
    "nbgrader": {
     "cell_type": "markdown",
     "checksum": "4cf96d16d00a781ce6e52ee06be534b4",
     "grade": false,
     "grade_id": "cell-d9a04dd6cfb8d72d",
     "locked": true,
     "schema_version": 3,
     "solution": false,
     "task": false
    }
   },
   "source": [
    "## Question 3.4 (10 marks)\n",
    "\n",
    "Write the function `params = fit_LDA(X, y)`. The inputs are the data matrix `X` and the corresponding target classes `y`(as defined in question 3.3). The function `fit_LDA` outputs a dictionary `params` with the parameters for a LDA classifier fit for the classification of the required number of classes. The number of classes will be automatically deduced from the `y` class vector. The keys of the dictionary `params` are tuples (pairs) of classes. The corresponding values of the dictionary are tuples of the `w` and `c` parameters for the specific pair of classes (see lecture slides for the definitions of these parameters).\n",
    "\n",
    "For example, with 4 classes the output of `fit_LDA` will look something like this:\n",
    "\n",
    "```\n",
    "{(0, 1): ([ 2.89950807, -10.94044177],  40.31422679),\n",
    " (0, 2): ([ 5.04462712,  -0.04016948],   0.35005364),\n",
    " (0, 3): ([ 2.53012911,   9.84693979],  36.84887159),\n",
    " (1, 2): ([ 2.38855971,  10.37782356], -39.11441420),\n",
    " (1, 3): ([-0.24264737,  20.50034866],  -0.78995354),\n",
    " (2, 3): ([-2.41045955,   9.55983610],  35.92534590)}\n",
    "```\n",
    "\n",
    "Write the function `preds = test_LDA(data_matrix, params)`. The input `data_matrix` is a set of instances (rows) to classify using the LDA model with parameters `params` in the format generated by `fit_LDA`. The output `preds` is a unidimensional array containing the predicted classes for each instance. \n",
    "\n",
    "You must write your own implementation of LDA. Do not use the implementation in the library `scikit` or `numpy` or any other library. \n"
   ]
  },
  {
   "cell_type": "code",
   "execution_count": null,
   "metadata": {
    "deletable": false,
    "nbgrader": {
     "cell_type": "code",
     "checksum": "b97efb39ce9f4aa60ec4ec9dde07d2c5",
     "grade": false,
     "grade_id": "cell-34483aaadffb3d57",
     "locked": false,
     "schema_version": 3,
     "solution": true,
     "task": false
    }
   },
   "outputs": [],
   "source": [
    "def fit_LDA(X, y):\n",
    "    # YOUR CODE HERE\n",
    "    raise NotImplementedError()\n",
    "    \n",
    "def test_LDA(X, params):\n",
    "    # YOUR CODE HERE\n",
    "    raise NotImplementedError()"
   ]
  },
  {
   "cell_type": "code",
   "execution_count": null,
   "metadata": {},
   "outputs": [],
   "source": [
    "def fit_LDA(X, y):\n",
    "    assert y[y==0].shape[0] + y[y==1].shape[0] == y.shape[0], 'Expecting 2 classes only'\n",
    "    \n",
    "    D0 = X[y==0]\n",
    "    D1 = X[y==1]\n",
    "    \n",
    "    pi0,mu0,S0 = LDA_factors(D0,X.shape[0])\n",
    "    pi1,mu1,S1 = LDA_factors(D1,X.shape[0])\n",
    "    \n",
    "    S = np.mat((S0+S1)/2)\n",
    "    SI = S.I\n",
    "    w = SI*(mu0-mu1)\n",
    "    c = np.log(pi0/pi1) -0.5 *mu0.T * SI * mu0 +0.5 *mu1.T * SI * mu1\n",
    "\n",
    "    return w,c"
   ]
  },
  {
   "cell_type": "code",
   "execution_count": null,
   "metadata": {},
   "outputs": [],
   "source": [
    "def test_LDA(X, params):\n",
    "    return 1 - (X * params[0] > params[1]).astype(int).A.reshape(-1)"
   ]
  },
  {
   "cell_type": "code",
   "execution_count": null,
   "metadata": {},
   "outputs": [],
   "source": [
    "def test_LDA1(X, params):\n",
    "    print(X)\n",
    "    print(params[0])\n",
    "    print(params[1])"
   ]
  },
  {
   "cell_type": "code",
   "execution_count": null,
   "metadata": {},
   "outputs": [],
   "source": [
    "test_LDA1(10, [20,30])"
   ]
  },
  {
   "cell_type": "code",
   "execution_count": null,
   "metadata": {},
   "outputs": [],
   "source": []
  },
  {
   "cell_type": "code",
   "execution_count": null,
   "metadata": {},
   "outputs": [],
   "source": []
  },
  {
   "cell_type": "code",
   "execution_count": null,
   "metadata": {
    "deletable": false,
    "editable": false,
    "nbgrader": {
     "cell_type": "code",
     "checksum": "4abdea1a0460dad8398ad03774976932",
     "grade": true,
     "grade_id": "cell-d81ca612eafc9f47",
     "locked": true,
     "points": 10,
     "schema_version": 3,
     "solution": false,
     "task": false
    }
   },
   "outputs": [],
   "source": [
    "# This cell is reserved for the unit tests. Do not consider this cell. "
   ]
  },
  {
   "cell_type": "markdown",
   "metadata": {
    "deletable": false,
    "editable": false,
    "nbgrader": {
     "cell_type": "markdown",
     "checksum": "44c0a90af792128f47c85cbdbc2c97a1",
     "grade": false,
     "grade_id": "cell-457d1e0a35d33df8",
     "locked": true,
     "schema_version": 3,
     "solution": false,
     "task": false
    }
   },
   "source": [
    "## Question 3.5 (4 marks)\n",
    "\n",
    "Write a function `G = make_grid(D, n)` to generate instances as regularly spaced points in 2D in the region of space that covers all instances (understod as points) in the input data matrix `D`. The data matrix `D` is used to extract the limits of the region. The input parameter `n` specifies the number of points per side of the region, e.g. with `n=10` a grid of 100 points is generated, and the output matrix `G` will have size `100 x 2`. "
   ]
  },
  {
   "cell_type": "code",
   "execution_count": null,
   "metadata": {
    "deletable": false,
    "nbgrader": {
     "cell_type": "code",
     "checksum": "374ee91f1b92ec0477dfd5f470043c14",
     "grade": false,
     "grade_id": "cell-02c00203a78eff9b",
     "locked": false,
     "schema_version": 3,
     "solution": true,
     "task": false
    }
   },
   "outputs": [],
   "source": [
    "def make_grid(D, n):\n",
    "    # YOUR CODE HERE\n",
    "    raise NotImplementedError()"
   ]
  },
  {
   "cell_type": "code",
   "execution_count": null,
   "metadata": {},
   "outputs": [],
   "source": [
    "def make_grid(D, n):\n",
    "    mn = np.min(D.A,axis=0).reshape(-1)\n",
    "    mx = np.max(D.A,axis=0).reshape(-1)\n",
    "    dat1 = np.linspace(mn[0],mx[0],n)\n",
    "    dat2 = np.linspace(mn[1],mx[1],n)\n",
    "    grid = [(x1,x2) for x1 in dat1  for x2 in dat2]\n",
    "    grid = np.mat(grid)\n",
    "    return grid"
   ]
  },
  {
   "cell_type": "code",
   "execution_count": null,
   "metadata": {
    "deletable": false,
    "editable": false,
    "nbgrader": {
     "cell_type": "code",
     "checksum": "20d63c724dfaaa8b3d8aaaded5db9722",
     "grade": true,
     "grade_id": "cell-a90619ba1328a8db",
     "locked": true,
     "points": 4,
     "schema_version": 3,
     "solution": false,
     "task": false
    }
   },
   "outputs": [],
   "source": [
    "# This cell is reserved for the unit tests. Do not consider this cell. "
   ]
  },
  {
   "cell_type": "markdown",
   "metadata": {
    "deletable": false,
    "editable": false,
    "nbgrader": {
     "cell_type": "markdown",
     "checksum": "7dfe29efe88701bc3eb1fcbf70d7dbc8",
     "grade": false,
     "grade_id": "cell-fe0dc885078e7b00",
     "locked": true,
     "schema_version": 3,
     "solution": false,
     "task": false
    }
   },
   "source": [
    "## Question 3.6 (3 marks)\n",
    "\n",
    "Write a function `acc = accuracy(y_true, y_pred)` to compute the fraction `acc` of correct predictions over the total number of predictions. The inputs `y_true` and `y_pred` are unidimensional arrays containing the correct class and the corresponding predicted class for a number of instances. "
   ]
  },
  {
   "cell_type": "code",
   "execution_count": null,
   "metadata": {
    "deletable": false,
    "nbgrader": {
     "cell_type": "code",
     "checksum": "b2411613f1dfad920b5db7448eba48f7",
     "grade": false,
     "grade_id": "cell-2b0a7a72604588a6",
     "locked": false,
     "schema_version": 3,
     "solution": true,
     "task": false
    }
   },
   "outputs": [],
   "source": [
    "def accuracy(y_true, y_pred):\n",
    "    # YOUR CODE HERE\n",
    "    raise NotImplementedError()"
   ]
  },
  {
   "cell_type": "code",
   "execution_count": null,
   "metadata": {},
   "outputs": [],
   "source": [
    "def accuracy(y_true, y_pred):\n",
    "    return accuracy_score(np.array(y_true, y_pred), np.ones((2, 2)))"
   ]
  },
  {
   "cell_type": "code",
   "execution_count": null,
   "metadata": {},
   "outputs": [],
   "source": []
  },
  {
   "cell_type": "code",
   "execution_count": null,
   "metadata": {},
   "outputs": [],
   "source": []
  },
  {
   "cell_type": "code",
   "execution_count": null,
   "metadata": {},
   "outputs": [],
   "source": []
  },
  {
   "cell_type": "code",
   "execution_count": null,
   "metadata": {
    "deletable": false,
    "editable": false,
    "nbgrader": {
     "cell_type": "code",
     "checksum": "42ed1adf1922fb4af96043715e25e97b",
     "grade": true,
     "grade_id": "cell-20d6a1dd56d2a05d",
     "locked": true,
     "points": 3,
     "schema_version": 3,
     "solution": false,
     "task": false
    }
   },
   "outputs": [],
   "source": [
    "# This cell is reserved for the unit tests. Do not consider this cell. "
   ]
  },
  {
   "cell_type": "markdown",
   "metadata": {
    "deletable": false,
    "editable": false,
    "nbgrader": {
     "cell_type": "markdown",
     "checksum": "4d29b1c865e481a21fcff726f6c189fc",
     "grade": false,
     "grade_id": "cell-5e665d6106705a36",
     "locked": true,
     "schema_version": 3,
     "solution": false,
     "task": false
    }
   },
   "source": [
    "## Question 3.7 (4 marks)\n",
    "\n",
    "Write a function `plot_data_and_grid(X,y,G,preds)` to visualize the results, where `X` is the data matrix, `y` is the class vector, `G` is a data matrix containing the grid vectors and `preds` is a vector containing the class predictions for the grid data points (see checkpoint below for usage of this function).  "
   ]
  },
  {
   "cell_type": "code",
   "execution_count": null,
   "metadata": {
    "deletable": false,
    "nbgrader": {
     "cell_type": "code",
     "checksum": "ffd4b25e49fa941696dab96c1c6d6e87",
     "grade": false,
     "grade_id": "cell-2c67a569e043bda0",
     "locked": false,
     "schema_version": 3,
     "solution": true,
     "task": false
    }
   },
   "outputs": [],
   "source": [
    "def plot_data_and_grid(X,y,G,preds):\n",
    "    # YOUR CODE HERE\n",
    "    raise NotImplementedError()"
   ]
  },
  {
   "cell_type": "code",
   "execution_count": null,
   "metadata": {},
   "outputs": [],
   "source": [
    "def plot_data_and_grid(X,y,G,preds):\n",
    "    mn = np.min(X.A,axis=0).reshape(-1)\n",
    "    mx = np.max(X.A,axis=0).reshape(-1)\n",
    "    dat1 = np.linspace(mn[0],mx[0],10)\n",
    "    dat2 = np.linspace(mn[1],mx[1],10)\n",
    "    grid = [(x1,x2) for x1 in dat1  for x2 in dat2]\n",
    "    grid = np.mat(grid)\n",
    "    w, c = fit_LDA(X, y)\n",
    "    p = test_LDA(G, w, c)\n",
    "    X2 = np.vstack([X,G])\n",
    "    y2 = np.hstack([y,p])\n",
    "    plot(X2,y2)"
   ]
  },
  {
   "cell_type": "code",
   "execution_count": null,
   "metadata": {},
   "outputs": [],
   "source": []
  },
  {
   "cell_type": "code",
   "execution_count": null,
   "metadata": {},
   "outputs": [],
   "source": []
  },
  {
   "cell_type": "code",
   "execution_count": null,
   "metadata": {},
   "outputs": [],
   "source": []
  },
  {
   "cell_type": "code",
   "execution_count": null,
   "metadata": {
    "deletable": false,
    "editable": false,
    "nbgrader": {
     "cell_type": "code",
     "checksum": "f71451bed9ec90c48f903e0c793e0b41",
     "grade": true,
     "grade_id": "cell-f8ff2cc2ecbedae4",
     "locked": true,
     "points": 4,
     "schema_version": 3,
     "solution": false,
     "task": false
    }
   },
   "outputs": [],
   "source": [
    "# This cell is reserved for the unit tests. Do not consider this cell. "
   ]
  },
  {
   "cell_type": "markdown",
   "metadata": {
    "deletable": false,
    "editable": false,
    "nbgrader": {
     "cell_type": "markdown",
     "checksum": "1d2cf1e517e236ae6e17816b561e7293",
     "grade": false,
     "grade_id": "cell-b79595de852bf046",
     "locked": true,
     "schema_version": 3,
     "solution": false,
     "task": false
    }
   },
   "source": [
    "## Checkpoint\n",
    "\n",
    "This is just a check-point, i.e. it is for you to see that you are correctly implementing all functions.\n",
    "\n",
    "Execute the following code (just execute the next cell):\n",
    "\n",
    "```\n",
    "D, targets = make_data(k=5, num_instances=1000, radius=10, ratio=2, rotation=0)\n",
    "G = make_grid(D,n=60)\n",
    "LDA_params = fit_LDA(D, targets)\n",
    "preds = test_LDA(G, LDA_params)\n",
    "plot_data_and_grid(D, targets, G, preds)\n",
    "```\n",
    "\n",
    "You should obtain something like this:\n",
    "\n",
    "\n",
    "<center><img src=\"lda.png\" alt=\"ex\" width=\"400\"/></center>\n"
   ]
  },
  {
   "cell_type": "code",
   "execution_count": null,
   "metadata": {
    "deletable": false,
    "editable": false,
    "nbgrader": {
     "cell_type": "code",
     "checksum": "ed660e9102cd033271567bf0da354020",
     "grade": false,
     "grade_id": "cell-44fb1f0940a737a7",
     "locked": true,
     "schema_version": 3,
     "solution": false,
     "task": false
    }
   },
   "outputs": [],
   "source": [
    "# Just run the following code, do not modify it\n",
    "\n",
    "D, targets = make_data(k=5, num_instances=1000, radius=10, ratio=2, rotation=0)\n",
    "G = make_grid(D,n=60)\n",
    "LDA_params = fit_LDA(D, targets)\n",
    "preds = test_LDA(G, LDA_params)\n",
    "plot_data_and_grid(D, targets, G, preds)"
   ]
  }
 ],
 "metadata": {
  "kernelspec": {
   "display_name": "Python 3 (ipykernel)",
   "language": "python",
   "name": "python3"
  },
  "language_info": {
   "codemirror_mode": {
    "name": "ipython",
    "version": 3
   },
   "file_extension": ".py",
   "mimetype": "text/x-python",
   "name": "python",
   "nbconvert_exporter": "python",
   "pygments_lexer": "ipython3",
   "version": "3.9.12"
  }
 },
 "nbformat": 4,
 "nbformat_minor": 4
}
