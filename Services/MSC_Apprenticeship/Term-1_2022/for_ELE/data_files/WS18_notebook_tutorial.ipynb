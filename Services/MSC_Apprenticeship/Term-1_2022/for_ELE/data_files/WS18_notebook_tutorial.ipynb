{
 "cells": [
  {
   "cell_type": "markdown",
   "metadata": {},
   "source": [
    "This tutorial will take you through the basics of using Jupyter Notebooks in Python.\n",
    "\n",
    "Credit to Dr Iulia Cioroianu, who wrote the original tutorial from which this is adapted."
   ]
  },
  {
   "cell_type": "markdown",
   "metadata": {
    "collapsed": true
   },
   "source": [
    "## Tutorial contents\n",
    "* [What is Jupyter?](#What-is-Jupyter?)\n",
    "* [Installing Jupyter](#Installing-Jupyter)\n",
    "* [Running the notebook](#Running-the-notebook)\n",
    "* [Notebook structure](#Notebook-structure)\n",
    "* [Code cells](#Code-cells)\n",
    "* [Markdown cells](#Markdown-cells)\n",
    "* [Exporting the notebook](#Exporting the notebook)"
   ]
  },
  {
   "cell_type": "markdown",
   "metadata": {},
   "source": [
    "## What is Jupyter? \n",
    "\n",
    "[Jupyter](http://jupyter.org) allows you to create and share documents that contain code, results, graphs, explanatory text and equations. The project started out at as IPython Notebook (you will find a lot of useful online resources under this name), but has grown to support not only Python, but over 40 other programming languages. The name \"Jupyter\" is a combination of [Julia](http://julialang.org/), [Python](http://python.org/), and [R](https://www.r-project.org), and a full list of [available kernels](https://github.com/ipython/ipython/wiki/IPython-kernels-for-other-languages) can be found on the Jupyter documentation page. \n",
    "\n",
    "Working with Jupyter notebooks is extremely easy: you create a new notebook and edit it in your browser. A Python (or R, Julia, etc.) kernel evaluates the code you type in notebook \"cells\" and displays the result below the cell. The resulting file can be exported as HTML, Markdown, LaTeX and PDF. The notebook itself is stored in [JSON](http://json.org) format. Notebooks also [render nicely](https://github.com/blog/1995-github-jupyter-notebooks-3) on GitHub.  \n"
   ]
  },
  {
   "cell_type": "markdown",
   "metadata": {},
   "source": [
    "## Notebook structure\n",
    "\n",
    "You can launch Jupyter from any location in your computer. By default, it will launch in your current working directory.\n",
    "\n",
    "You can navigate through the files in your computer to find the one you want to edit, and click the \"Upload\" button in the upper right corner. You can also click the \"New\" button to create a new file. You will be asked to select the type of file you want to open from the dropdown menu. For example, to open a new notebook using a Python 2 kernel choose \"Python 2\" in the notebooks section. This will open a new notebook in a new window (or tab) in your browser.\n",
    "\n",
    "A Jupyter notebook consists of cells. You can specify which type of cell you want to use in the drop-down menu on top of the page, or using keyboard shortcuts. The two main types of cells that we're using are code cells and markdown cells. You can turn a cell into a text cell by hitting \"Esc, y\" and into a markdown cell by hitting \"Esc, m\". \n",
    "\n",
    "You have to press Enter or double-click on a cell to enter editing mode. You can add new cells by hitting he **+** button top of the notebook, and you can move cells up and down to change their order using the arrows. You can also use shortcuts: \"Esc, b\" to insert a cell below  and \"Esc, a\" to insert a cell above. [Here](https://www.cheatography.com/weidadeyue/cheat-sheets/jupyter-notebook/) is a list of useful Jupyter shortcuts. \n"
   ]
  },
  {
   "cell_type": "markdown",
   "metadata": {},
   "source": [
    "## Code cells\n",
    "Code cells contain the code you want to run. To execute the code in a cell, hit \"Shift+Enter\". This executes the current cell and moves on to the next one. You can also use the menu button for this, by pressing the \"play\" button on the toolbar or select \"Run\" from the \"Cell\" menu above. Another way to run the current cell if by hitting \"Ctrl+Enter\", which runs the current cell but does not select the next one. \n",
    "\n",
    "Here is an example of some simple code in a cell: "
   ]
  },
  {
   "cell_type": "code",
   "execution_count": 2,
   "metadata": {},
   "outputs": [
    {
     "name": "stdout",
     "output_type": "stream",
     "text": [
      "c\n",
      "a\n",
      "t\n",
      "s\n"
     ]
    }
   ],
   "source": [
    "for letter in \"cats\":\n",
    "    print(letter)"
   ]
  },
  {
   "cell_type": "markdown",
   "metadata": {},
   "source": [
    "Here is another example:"
   ]
  },
  {
   "cell_type": "code",
   "execution_count": 4,
   "metadata": {},
   "outputs": [
    {
     "name": "stdout",
     "output_type": "stream",
     "text": [
      "i= 0 a= 0\n",
      "i= 1 a= 1\n",
      "i= 2 a= 3\n",
      "i= 3 a= 6\n",
      "i= 4 a= 10\n"
     ]
    }
   ],
   "source": [
    "a=0\n",
    "for i in range(5):\n",
    "    a+=i\n",
    "    print(\"i=\", i, \"a=\", a)"
   ]
  },
  {
   "cell_type": "markdown",
   "metadata": {},
   "source": [
    "You can edit the code and run it again until you get the desired result. \n",
    "\n",
    "Results generated by running the code in a cell are available in all other cells, including the ones above, if you execute them again. You can tell the order in which cells were executed by looking at the counter in front of them, \"In[]\"."
   ]
  },
  {
   "cell_type": "code",
   "execution_count": 5,
   "metadata": {},
   "outputs": [
    {
     "name": "stdout",
     "output_type": "stream",
     "text": [
      "10\n"
     ]
    }
   ],
   "source": [
    "print(a)"
   ]
  },
  {
   "cell_type": "markdown",
   "metadata": {},
   "source": [
    "Graphs can be displayed **inline**, directly in the notebook. You can specify this option by running one of the \"magic\" commands \"%matplotlib inline\" or \"%pylab inline\" in a code cell. This inline plotting is one of the most useful features of Jupyer Notebooks."
   ]
  },
  {
   "cell_type": "code",
   "execution_count": 6,
   "metadata": {},
   "outputs": [
    {
     "name": "stdout",
     "output_type": "stream",
     "text": [
      "Populating the interactive namespace from numpy and matplotlib\n"
     ]
    }
   ],
   "source": [
    "%pylab inline"
   ]
  },
  {
   "cell_type": "markdown",
   "metadata": {},
   "source": [
    "This will make all graphs plotted subsequently appear below the code cell that creates them. "
   ]
  },
  {
   "cell_type": "code",
   "execution_count": 7,
   "metadata": {},
   "outputs": [
    {
     "data": {
      "image/png": "[encoded data removed]",
      "text/plain": [
       "<matplotlib.figure.Figure at 0x7f310c912400>"
      ]
     },
     "metadata": {},
     "output_type": "display_data"
    }
   ],
   "source": [
    "import matplotlib.pyplot as plt \n",
    "import numpy as np\n",
    "x = np.linspace(-5,5,1000)     #creates a vector of x values from -5 to 5\n",
    "y = x**2                       #calculates y=x^2\n",
    "plt.plot(x,y)                  #creates the graph object\n",
    "plt.title('y=x^2')             #adds a title\n",
    "plt.show()                     #plots the graph"
   ]
  },
  {
   "cell_type": "markdown",
   "metadata": {},
   "source": [
    "## Markdown cells\n",
    "Markdown cells contain text written in **markdown** language. [Here](https://github.com/adam-p/markdown-here/wiki/Markdown-Cheatsheet) is a good quick reference guide for markdown. You can use markdown to write text, add mathematical equations, etc.\n",
    "\n"
   ]
  },
  {
   "cell_type": "markdown",
   "metadata": {},
   "source": [
    "## Saving your document\n",
    "You can save your notebook as an .ipynb file. You can also export it as a PDF document. Multiple formats for exporting can be found in the \"File\" tab. "
   ]
  }
 ],
 "metadata": {
  "kernelspec": {
   "display_name": "Python 3",
   "language": "python",
   "name": "python3"
  },
  "language_info": {
   "codemirror_mode": {
    "name": "ipython",
    "version": 3
   },
   "file_extension": ".py",
   "mimetype": "text/x-python",
   "name": "python",
   "nbconvert_exporter": "python",
   "pygments_lexer": "ipython3",
   "version": "3.6.6"
  }
 },
 "nbformat": 4,
 "nbformat_minor": 1
}
